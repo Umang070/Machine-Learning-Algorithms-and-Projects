{
 "cells": [
  {
   "cell_type": "code",
   "execution_count": 1,
   "metadata": {},
   "outputs": [],
   "source": [
    "import numpy as np"
   ]
  },
  {
   "cell_type": "code",
   "execution_count": 2,
   "metadata": {},
   "outputs": [],
   "source": [
    "gamma = 0.75  #Discount factor\n",
    "alpha = 0.9  #learning rate"
   ]
  },
  {
   "cell_type": "code",
   "execution_count": 8,
   "metadata": {},
   "outputs": [],
   "source": [
    "location_to_state = {\n",
    "    'L1' : 0,\n",
    "    'L2' : 1,\n",
    "    'L3' : 2,\n",
    "    'L4' : 3,\n",
    "    'L5' : 4,\n",
    "    'L6' : 5,\n",
    "    'L7' : 6,\n",
    "    'L8' : 7,\n",
    "    'L9' : 8,}"
   ]
  },
  {
   "cell_type": "code",
   "execution_count": 9,
   "metadata": {},
   "outputs": [],
   "source": [
    "actions = [0,1,2,3,4,5,6,7,8]"
   ]
  },
  {
   "cell_type": "code",
   "execution_count": 10,
   "metadata": {},
   "outputs": [],
   "source": [
    "rewards = np.array([[0,1,0,0,0,0,0,0,0],\n",
    "                    [1,0,1,0,0,0,0,0,0],\n",
    "                    [0,1,0,0,0,1,0,0,0],\n",
    "                    [0,0,0,0,0,0,1,0,0],\n",
    "                    [0,1,0,0,0,0,0,1,0],\n",
    "                    [0,0,1,0,0,0,0,0,0],\n",
    "                    [0,0,0,1,0,0,0,1,0],\n",
    "                    [0,0,0,0,1,0,1,0,1],\n",
    "                    [0,0,0,0,0,0,0,1,0]])"
   ]
  },
  {
   "cell_type": "code",
   "execution_count": 34,
   "metadata": {},
   "outputs": [],
   "source": [
    "#maps indices to location\n",
    "state_to_location = dict((state,location) for location,state in location_to_state.items())\n"
   ]
  },
  {
   "cell_type": "code",
   "execution_count": 40,
   "metadata": {},
   "outputs": [],
   "source": [
    "def get_optimal_path(start_location, end_location):\n",
    "    rewards_new = np.copy(rewards)\n",
    "    ending_state = location_to_state[end_location]\n",
    "    \n",
    "    #set the priority of the given ending state to highest once\n",
    "    rewards_new[ending_state,ending_state] = 1000\n",
    "    \n",
    "    Q = np.array(np.zeros([9,9]))\n",
    "    \n",
    "    #Q-learning process\n",
    "    for i in range(500):\n",
    "        current_state = np.random.randint(0,9)\n",
    "        \n",
    "        #for traversinng through the neighbor locations in the maze\n",
    "        playable_actions = []\n",
    "        for j in range(9):\n",
    "            if rewards_new[current_state,j] > 0:\n",
    "                    playable_actions.append(j)\n",
    "        \n",
    "        #choose random state leading to next state from playable list \n",
    "        next_state = np.random.choice(playable_actions)   #size ?\n",
    "    \n",
    "        #the action here exactly refers to going to next state\n",
    "        TD = rewards_new[current_state,next_state] + gamma * Q[next_state, np.argmax(Q[next_state,])] - Q[current_state,next_state]\n",
    "        \n",
    "        #update Q value using bellman equation\n",
    "        Q[current_state,next_state] += alpha * TD\n",
    "        \n",
    "    #initialize the optimal route with starting loc\n",
    "    optimal_route = [start_location]\n",
    "    next_location = start_location #b'caz wee till not know\n",
    "    \n",
    "    while(next_location != end_location):\n",
    "         starting_state = location_to_state[start_location]\n",
    "         next_state = np.argmax(Q[starting_state,])\n",
    "         #we got indice but we want location letter so,\n",
    "         next_location = state_to_location[next_state]\n",
    "         optimal_route.append(next_location)\n",
    "         start_location = next_location\n",
    "        \n",
    "    return optimal_route\n",
    "    \n",
    "    \n",
    "            "
   ]
  },
  {
   "cell_type": "code",
   "execution_count": 41,
   "metadata": {},
   "outputs": [
    {
     "name": "stdout",
     "output_type": "stream",
     "text": [
      "['L9', 'L8', 'L5', 'L2', 'L1']\n"
     ]
    }
   ],
   "source": [
    "print(get_optimal_path('L9','L1'))"
   ]
  },
  {
   "cell_type": "code",
   "execution_count": null,
   "metadata": {},
   "outputs": [],
   "source": []
  }
 ],
 "metadata": {
  "kernelspec": {
   "display_name": "Python 3",
   "language": "python",
   "name": "python3"
  },
  "language_info": {
   "codemirror_mode": {
    "name": "ipython",
    "version": 3
   },
   "file_extension": ".py",
   "mimetype": "text/x-python",
   "name": "python",
   "nbconvert_exporter": "python",
   "pygments_lexer": "ipython3",
   "version": "3.7.6"
  }
 },
 "nbformat": 4,
 "nbformat_minor": 4
}
