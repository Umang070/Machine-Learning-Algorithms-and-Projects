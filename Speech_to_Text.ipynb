{
 "cells": [
  {
   "cell_type": "markdown",
   "metadata": {},
   "source": [
    "## What is actually speech-to-text\n",
    "\n",
    "-->It is ability of machine or program to identify identify **words and phrases** in spoken language and convert them to a machine-readable or text format.  \n",
    "-->It is predicted that 50% of the searches will be voice activated.  \n",
    "-->APIs(such as Google cloud Speech API,IBM Speech to Text,etc.)"
   ]
  },
  {
   "cell_type": "code",
   "execution_count": 6,
   "metadata": {},
   "outputs": [],
   "source": [
    "import speech_recognition as sr\n",
    "import time\n",
    "#pyaudio  #to accept the i/p in audio format from the default microphone."
   ]
  },
  {
   "cell_type": "code",
   "execution_count": 26,
   "metadata": {},
   "outputs": [
    {
     "name": "stdout",
     "output_type": "stream",
     "text": [
      "Please Speak........\n",
      "Starting Time of Recording :  07:33:52\n",
      "Text Converted from Audio :\n",
      "\n",
      "thank you\n",
      "ALL Text Printed:\n",
      "Ending Time :  07:33:54\n"
     ]
    }
   ],
   "source": [
    "#ip audio-format and recognize the sound, initialize the Speech_Recognizer:\n",
    "store = sr.Recognizer()\n",
    "mic = sr.Microphone()\n",
    "#set the source of i/p audio.\n",
    "#1) it can be a pre-recorded file\n",
    "# with SRG.AudioFile(name_of_file) as source\n",
    "\n",
    "#2) voice i/p through Microphone: SRG.Microphone()\n",
    "\n",
    "\n",
    "# with mic as source:\n",
    "with sr.AudioFile(\"Recording.wav\") as source:\n",
    "    \n",
    "        print(\"Please Speak........\")\n",
    "\n",
    "        #define the limit for recording\n",
    "        #1) this method accept the voice and uploads it to recognition engine.\n",
    "        #2) recognize_google() identify the i/p voice passed to it as a parameter & return it in the text form.\n",
    "        \n",
    "        print(\"Starting Time of Recording : \",time.strftime(\"%I:%M:%S\"))\n",
    "        audio = store.record(source)            #for recorded file\n",
    "#         store.adjust_for_ambient_noise(source)    #for microphone\n",
    "#         audio = store.listen(source)\n",
    "\n",
    "\n",
    "        try:\n",
    "            text_op = store.recognize_google(audio)\n",
    "            print(\"Text Converted from Audio :\\n\")\n",
    "            print(text_op)\n",
    "            print(\"ALL Text Printed:\")\n",
    "\n",
    "            print(\"Ending Time : \",time.strftime(\"%I:%M:%S\"))\n",
    "\n",
    "        except:\n",
    "            print(\"Audio Input couldn't process.\")\n",
    "\n"
   ]
  },
  {
   "cell_type": "markdown",
   "metadata": {},
   "source": [
    "The device index of the microphone is the index of its name in the list returned by list_microphone_names(). For example, given the above output, if you want to use the microphone called  'Microphone (Realtek Audio)' which has index 1 in the list\n",
    "\n"
   ]
  },
  {
   "cell_type": "code",
   "execution_count": 21,
   "metadata": {},
   "outputs": [],
   "source": [
    "(sr.Microphone.list_microphone_names())"
   ]
  },
  {
   "cell_type": "code",
   "execution_count": 11,
   "metadata": {},
   "outputs": [],
   "source": [
    "# mic = sr.Microphone(device_index=2)"
   ]
  }
 ],
 "metadata": {
  "kernelspec": {
   "display_name": "Python 3",
   "language": "python",
   "name": "python3"
  },
  "language_info": {
   "codemirror_mode": {
    "name": "ipython",
    "version": 3
   },
   "file_extension": ".py",
   "mimetype": "text/x-python",
   "name": "python",
   "nbconvert_exporter": "python",
   "pygments_lexer": "ipython3",
   "version": "3.7.6"
  }
 },
 "nbformat": 4,
 "nbformat_minor": 4
}
