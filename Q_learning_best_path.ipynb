{
 "cells": [
  {
   "cell_type": "code",
   "execution_count": 1,
   "metadata": {},
   "outputs": [],
   "source": [
    "import numpy as np"
   ]
  },
  {
   "cell_type": "code",
   "execution_count": 13,
   "metadata": {},
   "outputs": [],
   "source": [
    "#R matrix\n",
    "\n",
    "#row index represent (set) and col index represent (action)\n",
    "\n",
    "R = np.matrix([[-1, -1, -1, -1, 0, -1],\n",
    "               [-1, -1, -1, 0, -1, 100],\n",
    "               [-1, -1, -1, 0, -1, -1],\n",
    "               [-1, 0, 0, -1, 0, -1],\n",
    "               [-1, 0, 0, -1, -1, 100],\n",
    "               [-1, 0, -1, -1, 0, 100]])\n",
    "\n",
    "#Q matrix\n",
    "\n",
    "Q = np.zeros([6,6])\n",
    "\n",
    "#Gamma Learning Parameter\n",
    "\n",
    "gamma = 0.8 \n",
    "\n",
    "#Initial state \n",
    "\n",
    "# initial_state = 1"
   ]
  },
  {
   "cell_type": "code",
   "execution_count": 14,
   "metadata": {},
   "outputs": [],
   "source": [
    "#fun returns all available actions in the given state\n",
    "\n",
    "\n",
    "\n",
    "def available_act(state):\n",
    "    current_state_row = R[state,]\n",
    "    av_action = np.where(current_state_row >= 0)[1]     # (array([0, 0], dtype=int64), array([3, 5], dtype=int64))\n",
    "    return av_action\n",
    "\n",
    "\n",
    "#av actions \n",
    "\n",
    "# available_actions = available_act(initial_state)"
   ]
  },
  {
   "cell_type": "code",
   "execution_count": 15,
   "metadata": {},
   "outputs": [],
   "source": [
    "# this fun chooses at random next from all available actions\n",
    "\n",
    "def sample_next_action(available_actions_range):\n",
    "    next_action = int(np.random.choice(available_actions_range, 1))\n",
    "    return next_action\n",
    "\n",
    "#next action\n",
    " \n",
    "# action = sample_next_action(available_actions)  #actions = 5\n"
   ]
  },
  {
   "cell_type": "code",
   "execution_count": 45,
   "metadata": {},
   "outputs": [],
   "source": [
    "#fun update Q matrix according to the path selected and the Q learning algorithm\n",
    "\n",
    "def update(current_state, action, gamma):\n",
    "#     print(current_state,action)\n",
    "    max_index = np.where(Q[action,] == np.max(Q[action,]))[0]\n",
    "#     print(max_index.shape)\n",
    "    if max_index.shape[0] > 1:\n",
    "        max_index = int(np.random.choice(max_index, size=1))\n",
    "    else:\n",
    "        max_index = int(max_index)\n",
    "    \n",
    "    max_value = Q[action, max_index]\n",
    "    \n",
    "    #Q learning formula \n",
    "    Q[current_state, action] = R[current_state, action] + gamma*max_value\n",
    "    \n",
    "    \n"
   ]
  },
  {
   "cell_type": "code",
   "execution_count": 46,
   "metadata": {},
   "outputs": [
    {
     "name": "stdout",
     "output_type": "stream",
     "text": [
      "Trained Q Matrix\n",
      "[[  0.    0.    0.    0.   80.    0. ]\n",
      " [  0.    0.    0.   64.    0.  100. ]\n",
      " [  0.    0.    0.   64.    0.    0. ]\n",
      " [  0.   80.   51.2   0.   80.    0. ]\n",
      " [  0.   80.   51.2   0.    0.  100. ]\n",
      " [  0.   80.    0.    0.   80.  100. ]]\n"
     ]
    }
   ],
   "source": [
    "#Training \n",
    "#re-iterate the process above\n",
    "for i in range(10000):\n",
    "    current_state = np.random.randint(0, int(Q.shape[0]))\n",
    "    available_actions = available_act(current_state)\n",
    "    action = sample_next_action(available_actions)\n",
    "    update(current_state, action, gamma)\n",
    "    \n",
    "\n",
    "#Normalize the 'trained' Q matrix\n",
    "print('Trained Q Matrix')\n",
    "print(Q / np.max(Q) * 100)\n",
    "    \n",
    "    "
   ]
  },
  {
   "cell_type": "code",
   "execution_count": 50,
   "metadata": {},
   "outputs": [
    {
     "name": "stdout",
     "output_type": "stream",
     "text": [
      "[3]\n",
      "max val index\n",
      "[1 4]\n",
      "same max val index multiple time\n",
      "[5]\n",
      "max val index\n",
      "[2, 3, 4, 5]\n"
     ]
    }
   ],
   "source": [
    "#Testing \n",
    "\n",
    "#Target_state = 5 \n",
    "#best path from 2 is -->2, 3, 1, 5\n",
    "\n",
    "current_state = 2\n",
    "steps = [current_state]\n",
    "\n",
    "while current_state != 5:\n",
    "    \n",
    "    next_step_index = np.where(Q[current_state,] == np.max(Q[current_state,]))[0]\n",
    "    print(next_step_index)\n",
    "    if next_step_index.shape[0] > 1:\n",
    "        print('same max val index multiple time')\n",
    "        next_step_index = int(np.random.choice(next_step_index, size=1))\n",
    "    else:\n",
    "        print('max val index')\n",
    "        next_step_index = int(next_step_index)\n",
    "    \n",
    "    steps.append(next_step_index)\n",
    "    current_state = next_step_index\n",
    "    \n",
    "#max rewarded path from particular state\n",
    "print(steps)"
   ]
  },
  {
   "cell_type": "code",
   "execution_count": null,
   "metadata": {},
   "outputs": [],
   "source": []
  }
 ],
 "metadata": {
  "kernelspec": {
   "display_name": "Python 3",
   "language": "python",
   "name": "python3"
  },
  "language_info": {
   "codemirror_mode": {
    "name": "ipython",
    "version": 3
   },
   "file_extension": ".py",
   "mimetype": "text/x-python",
   "name": "python",
   "nbconvert_exporter": "python",
   "pygments_lexer": "ipython3",
   "version": "3.7.6"
  }
 },
 "nbformat": 4,
 "nbformat_minor": 4
}
