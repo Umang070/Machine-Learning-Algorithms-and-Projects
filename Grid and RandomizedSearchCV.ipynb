{
 "cells": [
  {
   "cell_type": "code",
   "execution_count": 1,
   "metadata": {},
   "outputs": [],
   "source": [
    "#-------------AGENDA------------------------\n",
    "# k-fold CV --- search for optimal Tun.Para\n",
    "# mul Tunnig Parameter at once? and what we do with those para before making real prediction\n",
    "# how computational expense be reduced?"
   ]
  },
  {
   "cell_type": "code",
   "execution_count": 2,
   "metadata": {},
   "outputs": [],
   "source": [
    "import sklearn\n",
    "import matplotlib.pyplot as plt\n",
    "import numpy as np\n",
    "from sklearn.model_selection import train_test_split\n",
    "from sklearn.model_selection import KFold\n",
    "from sklearn import metrics\n",
    "from sklearn.datasets import load_iris\n",
    "from sklearn.neighbors import KNeighborsClassifier\n"
   ]
  },
  {
   "cell_type": "code",
   "execution_count": 4,
   "metadata": {},
   "outputs": [],
   "source": [
    "#GridSearchCV -- allows to define a grid of parameters that will be searched using k-foldCV..\n",
    "from sklearn.model_selection import GridSearchCV"
   ]
  },
  {
   "cell_type": "code",
   "execution_count": 30,
   "metadata": {},
   "outputs": [
    {
     "ename": "TypeError",
     "evalue": "__init__() missing 2 required positional arguments: 'estimator' and 'param_grid'",
     "output_type": "error",
     "traceback": [
      "\u001b[1;31m---------------------------------------------------------------------------\u001b[0m",
      "\u001b[1;31mTypeError\u001b[0m                                 Traceback (most recent call last)",
      "\u001b[1;32m<ipython-input-30-cd9368b86ecc>\u001b[0m in \u001b[0;36m<module>\u001b[1;34m\u001b[0m\n\u001b[0;32m      3\u001b[0m \u001b[0mX\u001b[0m \u001b[1;33m=\u001b[0m \u001b[0miris\u001b[0m\u001b[1;33m.\u001b[0m\u001b[0mdata\u001b[0m\u001b[1;33m\u001b[0m\u001b[1;33m\u001b[0m\u001b[0m\n\u001b[0;32m      4\u001b[0m \u001b[0my\u001b[0m \u001b[1;33m=\u001b[0m \u001b[0miris\u001b[0m\u001b[1;33m.\u001b[0m\u001b[0mtarget\u001b[0m\u001b[1;33m\u001b[0m\u001b[1;33m\u001b[0m\u001b[0m\n\u001b[1;32m----> 5\u001b[1;33m \u001b[0mclf\u001b[0m \u001b[1;33m=\u001b[0m \u001b[0mGridSearchCV\u001b[0m\u001b[1;33m(\u001b[0m\u001b[1;33m)\u001b[0m\u001b[1;33m\u001b[0m\u001b[1;33m\u001b[0m\u001b[0m\n\u001b[0m\u001b[0;32m      6\u001b[0m \u001b[0macc_mean_score\u001b[0m\u001b[1;33m=\u001b[0m\u001b[1;33m[\u001b[0m\u001b[1;33m]\u001b[0m\u001b[1;33m\u001b[0m\u001b[1;33m\u001b[0m\u001b[0m\n\u001b[0;32m      7\u001b[0m \u001b[0mk_range\u001b[0m \u001b[1;33m=\u001b[0m \u001b[0mrange\u001b[0m\u001b[1;33m(\u001b[0m\u001b[1;36m1\u001b[0m\u001b[1;33m,\u001b[0m\u001b[1;36m31\u001b[0m\u001b[1;33m)\u001b[0m\u001b[1;33m\u001b[0m\u001b[1;33m\u001b[0m\u001b[0m\n",
      "\u001b[1;31mTypeError\u001b[0m: __init__() missing 2 required positional arguments: 'estimator' and 'param_grid'"
     ]
    }
   ],
   "source": [
    "from sklearn.model_selection import cross_val_score\n",
    "iris = load_iris()\n",
    "X = iris.data\n",
    "y = iris.target\n",
    "acc_mean_score=[]\n",
    "k_range = range(1,31)\n",
    "for k_value in k_range:\n",
    "    knn = KNeighborsClassifier(n_neighbors=k_value)\n",
    "    score = cross_val_score(knn,X,y,cv=10,scoring='accuracy')\n",
    "    acc_mean_score.append(score.mean())\n",
    "# print(acc_mean_score)    \n",
    "\n",
    "param_grid = dict(n_neighbors=k_range)\n",
    "print(param_grid)"
   ]
  },
  {
   "cell_type": "code",
   "execution_count": 20,
   "metadata": {},
   "outputs": [
    {
     "name": "stdout",
     "output_type": "stream",
     "text": [
      "GridSearchCV(cv=10, error_score=nan,\n",
      "             estimator=KNeighborsClassifier(algorithm='auto', leaf_size=30,\n",
      "                                            metric='minkowski',\n",
      "                                            metric_params=None, n_jobs=None,\n",
      "                                            n_neighbors=30, p=2,\n",
      "                                            weights='uniform'),\n",
      "             iid='deprecated', n_jobs=None,\n",
      "             param_grid={'n_neighbors': range(1, 31)}, pre_dispatch='2*n_jobs',\n",
      "             refit=True, return_train_score=False, scoring='accuracy',\n",
      "             verbose=0)\n"
     ]
    }
   ],
   "source": [
    "\n",
    "grid = GridSearchCV(knn,param_grid,cv=10,scoring='accuracy')\n",
    "print(grid)"
   ]
  },
  {
   "cell_type": "code",
   "execution_count": 57,
   "metadata": {},
   "outputs": [
    {
     "data": {
      "text/plain": [
       "GridSearchCV(cv=10, error_score=nan,\n",
       "             estimator=KNeighborsClassifier(algorithm='auto', leaf_size=30,\n",
       "                                            metric='minkowski',\n",
       "                                            metric_params=None, n_jobs=None,\n",
       "                                            n_neighbors=30, p=2,\n",
       "                                            weights='uniform'),\n",
       "             iid='deprecated', n_jobs=None,\n",
       "             param_grid={'n_neighbors': range(1, 31)}, pre_dispatch='2*n_jobs',\n",
       "             refit=True, return_train_score=False, scoring='accuracy',\n",
       "             verbose=0)"
      ]
     },
     "execution_count": 57,
     "metadata": {},
     "output_type": "execute_result"
    }
   ],
   "source": [
    "grid.fit(X,y)\n",
    "# grid.cv_results_"
   ]
  },
  {
   "cell_type": "code",
   "execution_count": 55,
   "metadata": {},
   "outputs": [],
   "source": [
    "\n",
    "#--------ERROR(old method)----------\n",
    "#examine 1st \n",
    "# print(grid.cv_results_.params)\n",
    "# print(grid.cv_results_.cv_validation_scores)\n",
    "# print(grid.cv_results_.mean_validation_score)"
   ]
  },
  {
   "cell_type": "code",
   "execution_count": 54,
   "metadata": {},
   "outputs": [],
   "source": [
    "# list of mean only\n",
    "# grid_mean_scores = [res.mean_validation_score for res in grid.grid_score_]"
   ]
  },
  {
   "cell_type": "code",
   "execution_count": 53,
   "metadata": {},
   "outputs": [
    {
     "name": "stdout",
     "output_type": "stream",
     "text": [
      "0.9800000000000001\n",
      "12\n"
     ]
    }
   ],
   "source": [
    "mean_res=(grid.cv_results_['mean_test_score'])\n",
    "print(mean_res.max())\n",
    "print(np.argmax(mean_res))\n"
   ]
  },
  {
   "cell_type": "code",
   "execution_count": 56,
   "metadata": {},
   "outputs": [],
   "source": [
    "# #searching multiple parameters simultaneously\n",
    "# ex:tunning max_depth and min_samples_leaf for a DecisionTreeClassifier\n",
    "#     could para independently...best performance achived when neighter para aas default.."
   ]
  },
  {
   "cell_type": "code",
   "execution_count": 76,
   "metadata": {},
   "outputs": [
    {
     "data": {
      "text/plain": [
       "{'mean_fit_time': array([0.00099423, 0.0010006 , 0.00059869, 0.00049908, 0.0003978 ,\n",
       "        0.00049894, 0.00039878, 0.00039892, 0.00019946, 0.00059843,\n",
       "        0.00049832, 0.00029924, 0.00049884, 0.00049806, 0.        ,\n",
       "        0.00039899, 0.00099661, 0.00039899, 0.        , 0.0003989 ,\n",
       "        0.00099716, 0.00049851, 0.00089774, 0.00039899, 0.00079806,\n",
       "        0.00039899, 0.00049894, 0.00059597, 0.00059712, 0.00059836,\n",
       "        0.00129635, 0.00039945, 0.        , 0.00049894, 0.00059721,\n",
       "        0.000898  , 0.00049884, 0.00039806, 0.00059798, 0.00060313,\n",
       "        0.00049853, 0.00039587, 0.00089526, 0.0003993 , 0.00029919,\n",
       "        0.00029955, 0.00029922, 0.00069776, 0.00059865, 0.00040164,\n",
       "        0.00039868, 0.00049884, 0.00029919, 0.00040016, 0.00049841,\n",
       "        0.00049868, 0.00049865, 0.00049853, 0.00010021, 0.00039921]),\n",
       " 'std_fit_time': array([4.46370005e-04, 7.92532046e-04, 6.61760515e-04, 4.99082587e-04,\n",
       "        4.87213605e-04, 4.98943968e-04, 4.88405103e-04, 4.88577644e-04,\n",
       "        3.98921967e-04, 4.88616609e-04, 4.98319076e-04, 4.57095369e-04,\n",
       "        4.98843451e-04, 4.98060258e-04, 0.00000000e+00, 4.88665261e-04,\n",
       "        1.13066728e-06, 4.88665284e-04, 0.00000000e+00, 4.88548448e-04,\n",
       "        3.72421726e-07, 4.98509651e-04, 2.99251262e-04, 4.88665319e-04,\n",
       "        3.99031113e-04, 4.88665307e-04, 4.98938921e-04, 4.86658974e-04,\n",
       "        4.87564213e-04, 4.88558287e-04, 1.00291734e-03, 4.89221913e-04,\n",
       "        0.00000000e+00, 4.98940345e-04, 4.87677257e-04, 5.36968516e-04,\n",
       "        4.98845399e-04, 4.87529096e-04, 4.88250381e-04, 4.92503066e-04,\n",
       "        4.98533329e-04, 4.84916643e-04, 2.98826090e-04, 4.89045103e-04,\n",
       "        4.57022564e-04, 4.57569570e-04, 4.57058975e-04, 4.56789505e-04,\n",
       "        4.88793214e-04, 4.91957673e-04, 4.88286219e-04, 4.98843337e-04,\n",
       "        4.57022527e-04, 4.90100694e-04, 4.98416834e-04, 4.98676840e-04,\n",
       "        4.98652515e-04, 4.98533295e-04, 3.00621986e-04, 4.88929291e-04]),\n",
       " 'mean_score_time': array([0.00179923, 0.0016943 , 0.00119631, 0.00100055, 0.00109937,\n",
       "        0.00088975, 0.00109751, 0.00079749, 0.00119755, 0.00079787,\n",
       "        0.00109725, 0.00109754, 0.00109689, 0.00099881, 0.00119681,\n",
       "        0.00079782, 0.00099795, 0.00079942, 0.00099764, 0.00069807,\n",
       "        0.00099747, 0.00079794, 0.00099728, 0.00099838, 0.00099707,\n",
       "        0.00089743, 0.00139637, 0.00089941, 0.00119755, 0.00129631,\n",
       "        0.00299168, 0.00089636, 0.00119681, 0.00149608, 0.00249462,\n",
       "        0.00180051, 0.00169513, 0.00099835, 0.00159609, 0.00079618,\n",
       "        0.00129676, 0.00090051, 0.00120227, 0.0009006 , 0.00139658,\n",
       "        0.0009969 , 0.00119655, 0.00079815, 0.00109723, 0.00099733,\n",
       "        0.00179274, 0.00089741, 0.00139637, 0.00099616, 0.00119739,\n",
       "        0.00099745, 0.00099728, 0.00079801, 0.00139563, 0.00089653]),\n",
       " 'std_score_time': array([5.98763304e-04, 7.76758416e-04, 3.98854175e-04, 9.02608784e-06,\n",
       "        2.98508277e-04, 5.35308366e-04, 2.99278535e-04, 3.98744428e-04,\n",
       "        3.98474506e-04, 3.98933908e-04, 2.97457746e-04, 2.99027966e-04,\n",
       "        2.99080956e-04, 2.77232730e-06, 3.99017434e-04, 3.98910294e-04,\n",
       "        1.16825104e-06, 3.99722965e-04, 3.72909828e-06, 4.56991382e-04,\n",
       "        3.02519263e-07, 3.98969878e-04, 1.55045419e-06, 4.47843307e-04,\n",
       "        1.31454933e-06, 5.36773107e-04, 4.88363663e-04, 2.99914808e-04,\n",
       "        4.02784964e-04, 4.57512027e-04, 2.56194644e-03, 2.98794001e-04,\n",
       "        3.98724916e-04, 8.04778508e-04, 1.20175627e-03, 9.78539521e-04,\n",
       "        6.37671378e-04, 1.88093976e-06, 4.87452861e-04, 3.98323776e-04,\n",
       "        4.57267182e-04, 3.00301105e-04, 3.97077938e-04, 3.00355373e-04,\n",
       "        4.88431915e-04, 4.46276212e-04, 3.99940896e-04, 3.99077892e-04,\n",
       "        2.99371558e-04, 4.46224030e-04, 7.44929814e-04, 2.99136410e-04,\n",
       "        4.87736563e-04, 4.45909187e-04, 3.98975136e-04, 7.92181383e-07,\n",
       "        3.60792779e-07, 3.99005562e-04, 4.89018290e-04, 2.98852854e-04]),\n",
       " 'param_n_neighbors': masked_array(data=[1, 1, 2, 2, 3, 3, 4, 4, 5, 5, 6, 6, 7, 7, 8, 8, 9, 9,\n",
       "                    10, 10, 11, 11, 12, 12, 13, 13, 14, 14, 15, 15, 16, 16,\n",
       "                    17, 17, 18, 18, 19, 19, 20, 20, 21, 21, 22, 22, 23, 23,\n",
       "                    24, 24, 25, 25, 26, 26, 27, 27, 28, 28, 29, 29, 30, 30],\n",
       "              mask=[False, False, False, False, False, False, False, False,\n",
       "                    False, False, False, False, False, False, False, False,\n",
       "                    False, False, False, False, False, False, False, False,\n",
       "                    False, False, False, False, False, False, False, False,\n",
       "                    False, False, False, False, False, False, False, False,\n",
       "                    False, False, False, False, False, False, False, False,\n",
       "                    False, False, False, False, False, False, False, False,\n",
       "                    False, False, False, False],\n",
       "        fill_value='?',\n",
       "             dtype=object),\n",
       " 'param_weights': masked_array(data=['uniform', 'distance', 'uniform', 'distance',\n",
       "                    'uniform', 'distance', 'uniform', 'distance',\n",
       "                    'uniform', 'distance', 'uniform', 'distance',\n",
       "                    'uniform', 'distance', 'uniform', 'distance',\n",
       "                    'uniform', 'distance', 'uniform', 'distance',\n",
       "                    'uniform', 'distance', 'uniform', 'distance',\n",
       "                    'uniform', 'distance', 'uniform', 'distance',\n",
       "                    'uniform', 'distance', 'uniform', 'distance',\n",
       "                    'uniform', 'distance', 'uniform', 'distance',\n",
       "                    'uniform', 'distance', 'uniform', 'distance',\n",
       "                    'uniform', 'distance', 'uniform', 'distance',\n",
       "                    'uniform', 'distance', 'uniform', 'distance',\n",
       "                    'uniform', 'distance', 'uniform', 'distance',\n",
       "                    'uniform', 'distance', 'uniform', 'distance',\n",
       "                    'uniform', 'distance', 'uniform', 'distance'],\n",
       "              mask=[False, False, False, False, False, False, False, False,\n",
       "                    False, False, False, False, False, False, False, False,\n",
       "                    False, False, False, False, False, False, False, False,\n",
       "                    False, False, False, False, False, False, False, False,\n",
       "                    False, False, False, False, False, False, False, False,\n",
       "                    False, False, False, False, False, False, False, False,\n",
       "                    False, False, False, False, False, False, False, False,\n",
       "                    False, False, False, False],\n",
       "        fill_value='?',\n",
       "             dtype=object),\n",
       " 'params': [{'n_neighbors': 1, 'weights': 'uniform'},\n",
       "  {'n_neighbors': 1, 'weights': 'distance'},\n",
       "  {'n_neighbors': 2, 'weights': 'uniform'},\n",
       "  {'n_neighbors': 2, 'weights': 'distance'},\n",
       "  {'n_neighbors': 3, 'weights': 'uniform'},\n",
       "  {'n_neighbors': 3, 'weights': 'distance'},\n",
       "  {'n_neighbors': 4, 'weights': 'uniform'},\n",
       "  {'n_neighbors': 4, 'weights': 'distance'},\n",
       "  {'n_neighbors': 5, 'weights': 'uniform'},\n",
       "  {'n_neighbors': 5, 'weights': 'distance'},\n",
       "  {'n_neighbors': 6, 'weights': 'uniform'},\n",
       "  {'n_neighbors': 6, 'weights': 'distance'},\n",
       "  {'n_neighbors': 7, 'weights': 'uniform'},\n",
       "  {'n_neighbors': 7, 'weights': 'distance'},\n",
       "  {'n_neighbors': 8, 'weights': 'uniform'},\n",
       "  {'n_neighbors': 8, 'weights': 'distance'},\n",
       "  {'n_neighbors': 9, 'weights': 'uniform'},\n",
       "  {'n_neighbors': 9, 'weights': 'distance'},\n",
       "  {'n_neighbors': 10, 'weights': 'uniform'},\n",
       "  {'n_neighbors': 10, 'weights': 'distance'},\n",
       "  {'n_neighbors': 11, 'weights': 'uniform'},\n",
       "  {'n_neighbors': 11, 'weights': 'distance'},\n",
       "  {'n_neighbors': 12, 'weights': 'uniform'},\n",
       "  {'n_neighbors': 12, 'weights': 'distance'},\n",
       "  {'n_neighbors': 13, 'weights': 'uniform'},\n",
       "  {'n_neighbors': 13, 'weights': 'distance'},\n",
       "  {'n_neighbors': 14, 'weights': 'uniform'},\n",
       "  {'n_neighbors': 14, 'weights': 'distance'},\n",
       "  {'n_neighbors': 15, 'weights': 'uniform'},\n",
       "  {'n_neighbors': 15, 'weights': 'distance'},\n",
       "  {'n_neighbors': 16, 'weights': 'uniform'},\n",
       "  {'n_neighbors': 16, 'weights': 'distance'},\n",
       "  {'n_neighbors': 17, 'weights': 'uniform'},\n",
       "  {'n_neighbors': 17, 'weights': 'distance'},\n",
       "  {'n_neighbors': 18, 'weights': 'uniform'},\n",
       "  {'n_neighbors': 18, 'weights': 'distance'},\n",
       "  {'n_neighbors': 19, 'weights': 'uniform'},\n",
       "  {'n_neighbors': 19, 'weights': 'distance'},\n",
       "  {'n_neighbors': 20, 'weights': 'uniform'},\n",
       "  {'n_neighbors': 20, 'weights': 'distance'},\n",
       "  {'n_neighbors': 21, 'weights': 'uniform'},\n",
       "  {'n_neighbors': 21, 'weights': 'distance'},\n",
       "  {'n_neighbors': 22, 'weights': 'uniform'},\n",
       "  {'n_neighbors': 22, 'weights': 'distance'},\n",
       "  {'n_neighbors': 23, 'weights': 'uniform'},\n",
       "  {'n_neighbors': 23, 'weights': 'distance'},\n",
       "  {'n_neighbors': 24, 'weights': 'uniform'},\n",
       "  {'n_neighbors': 24, 'weights': 'distance'},\n",
       "  {'n_neighbors': 25, 'weights': 'uniform'},\n",
       "  {'n_neighbors': 25, 'weights': 'distance'},\n",
       "  {'n_neighbors': 26, 'weights': 'uniform'},\n",
       "  {'n_neighbors': 26, 'weights': 'distance'},\n",
       "  {'n_neighbors': 27, 'weights': 'uniform'},\n",
       "  {'n_neighbors': 27, 'weights': 'distance'},\n",
       "  {'n_neighbors': 28, 'weights': 'uniform'},\n",
       "  {'n_neighbors': 28, 'weights': 'distance'},\n",
       "  {'n_neighbors': 29, 'weights': 'uniform'},\n",
       "  {'n_neighbors': 29, 'weights': 'distance'},\n",
       "  {'n_neighbors': 30, 'weights': 'uniform'},\n",
       "  {'n_neighbors': 30, 'weights': 'distance'}],\n",
       " 'split0_test_score': array([1.        , 1.        , 1.        , 1.        , 1.        ,\n",
       "        1.        , 1.        , 1.        , 1.        , 1.        ,\n",
       "        1.        , 1.        , 1.        , 1.        , 1.        ,\n",
       "        1.        , 1.        , 1.        , 1.        , 1.        ,\n",
       "        1.        , 1.        , 1.        , 1.        , 1.        ,\n",
       "        1.        , 1.        , 1.        , 0.93333333, 1.        ,\n",
       "        1.        , 1.        , 0.93333333, 1.        , 1.        ,\n",
       "        1.        , 0.93333333, 1.        , 1.        , 1.        ,\n",
       "        0.93333333, 1.        , 0.93333333, 1.        , 0.93333333,\n",
       "        1.        , 0.93333333, 1.        , 0.93333333, 1.        ,\n",
       "        0.93333333, 1.        , 0.93333333, 1.        , 0.93333333,\n",
       "        1.        , 0.93333333, 1.        , 0.93333333, 1.        ]),\n",
       " 'split1_test_score': array([0.93333333, 0.93333333, 0.93333333, 0.93333333, 0.93333333,\n",
       "        0.93333333, 0.93333333, 0.93333333, 0.93333333, 0.93333333,\n",
       "        0.93333333, 0.93333333, 0.93333333, 0.93333333, 0.93333333,\n",
       "        0.93333333, 0.93333333, 0.93333333, 0.93333333, 0.93333333,\n",
       "        0.93333333, 0.93333333, 0.93333333, 0.93333333, 0.93333333,\n",
       "        0.93333333, 0.93333333, 0.93333333, 0.93333333, 0.93333333,\n",
       "        0.93333333, 0.93333333, 0.93333333, 0.93333333, 0.93333333,\n",
       "        0.93333333, 0.93333333, 0.93333333, 0.93333333, 0.93333333,\n",
       "        0.93333333, 0.93333333, 0.93333333, 0.93333333, 0.93333333,\n",
       "        0.93333333, 0.93333333, 0.93333333, 0.93333333, 0.93333333,\n",
       "        0.93333333, 0.93333333, 0.93333333, 0.93333333, 0.93333333,\n",
       "        0.93333333, 0.93333333, 0.93333333, 0.93333333, 0.93333333]),\n",
       " 'split2_test_score': array([1., 1., 1., 1., 1., 1., 1., 1., 1., 1., 1., 1., 1., 1., 1., 1., 1.,\n",
       "        1., 1., 1., 1., 1., 1., 1., 1., 1., 1., 1., 1., 1., 1., 1., 1., 1.,\n",
       "        1., 1., 1., 1., 1., 1., 1., 1., 1., 1., 1., 1., 1., 1., 1., 1., 1.,\n",
       "        1., 1., 1., 1., 1., 1., 1., 1., 1.]),\n",
       " 'split3_test_score': array([0.93333333, 0.93333333, 0.93333333, 0.93333333, 0.93333333,\n",
       "        0.93333333, 0.93333333, 0.93333333, 1.        , 1.        ,\n",
       "        1.        , 1.        , 1.        , 1.        , 1.        ,\n",
       "        1.        , 1.        , 1.        , 1.        , 1.        ,\n",
       "        1.        , 1.        , 1.        , 1.        , 1.        ,\n",
       "        1.        , 1.        , 1.        , 1.        , 1.        ,\n",
       "        1.        , 1.        , 1.        , 1.        , 1.        ,\n",
       "        1.        , 1.        , 1.        , 1.        , 1.        ,\n",
       "        1.        , 1.        , 1.        , 1.        , 1.        ,\n",
       "        1.        , 1.        , 1.        , 1.        , 1.        ,\n",
       "        1.        , 1.        , 1.        , 1.        , 0.93333333,\n",
       "        1.        , 0.93333333, 0.93333333, 0.93333333, 0.93333333]),\n",
       " 'split4_test_score': array([0.86666667, 0.86666667, 0.86666667, 0.86666667, 0.86666667,\n",
       "        0.86666667, 0.86666667, 0.86666667, 0.86666667, 0.86666667,\n",
       "        0.86666667, 0.86666667, 0.86666667, 0.86666667, 1.        ,\n",
       "        0.86666667, 1.        , 0.93333333, 1.        , 0.93333333,\n",
       "        1.        , 0.93333333, 1.        , 0.86666667, 1.        ,\n",
       "        0.93333333, 1.        , 0.93333333, 1.        , 1.        ,\n",
       "        1.        , 0.93333333, 1.        , 1.        , 1.        ,\n",
       "        0.93333333, 1.        , 1.        , 1.        , 0.86666667,\n",
       "        0.93333333, 0.86666667, 1.        , 0.86666667, 1.        ,\n",
       "        0.93333333, 1.        , 0.93333333, 1.        , 0.93333333,\n",
       "        1.        , 0.86666667, 1.        , 1.        , 1.        ,\n",
       "        0.93333333, 1.        , 1.        , 1.        , 0.93333333]),\n",
       " 'split5_test_score': array([1.        , 1.        , 1.        , 1.        , 1.        ,\n",
       "        1.        , 1.        , 1.        , 0.93333333, 0.93333333,\n",
       "        0.93333333, 0.93333333, 0.93333333, 0.93333333, 0.86666667,\n",
       "        0.93333333, 0.93333333, 0.93333333, 0.86666667, 0.93333333,\n",
       "        0.86666667, 0.93333333, 0.93333333, 1.        , 0.93333333,\n",
       "        0.93333333, 0.86666667, 0.93333333, 0.93333333, 0.93333333,\n",
       "        0.93333333, 0.93333333, 0.93333333, 0.93333333, 0.93333333,\n",
       "        0.93333333, 0.93333333, 0.93333333, 0.93333333, 0.93333333,\n",
       "        0.93333333, 0.93333333, 0.93333333, 0.93333333, 0.93333333,\n",
       "        0.93333333, 0.86666667, 0.93333333, 0.93333333, 0.93333333,\n",
       "        0.86666667, 0.93333333, 0.86666667, 0.93333333, 0.86666667,\n",
       "        0.93333333, 0.86666667, 0.93333333, 0.86666667, 0.93333333]),\n",
       " 'split6_test_score': array([0.86666667, 0.86666667, 0.86666667, 0.86666667, 0.93333333,\n",
       "        0.93333333, 0.93333333, 0.93333333, 0.93333333, 0.93333333,\n",
       "        0.93333333, 0.93333333, 0.93333333, 0.93333333, 0.93333333,\n",
       "        0.93333333, 0.93333333, 0.93333333, 0.93333333, 0.93333333,\n",
       "        0.93333333, 0.93333333, 0.93333333, 0.93333333, 0.93333333,\n",
       "        0.93333333, 0.93333333, 0.93333333, 0.93333333, 0.93333333,\n",
       "        0.93333333, 0.93333333, 0.93333333, 0.93333333, 0.93333333,\n",
       "        0.93333333, 0.93333333, 0.93333333, 0.93333333, 0.93333333,\n",
       "        0.93333333, 0.93333333, 0.93333333, 0.93333333, 0.93333333,\n",
       "        0.93333333, 0.93333333, 0.93333333, 0.93333333, 0.93333333,\n",
       "        0.93333333, 0.93333333, 0.93333333, 0.93333333, 0.93333333,\n",
       "        0.93333333, 0.93333333, 0.93333333, 0.93333333, 0.93333333]),\n",
       " 'split7_test_score': array([1.        , 1.        , 0.93333333, 1.        , 1.        ,\n",
       "        1.        , 1.        , 1.        , 1.        , 1.        ,\n",
       "        1.        , 1.        , 1.        , 1.        , 0.93333333,\n",
       "        1.        , 0.93333333, 1.        , 0.93333333, 1.        ,\n",
       "        0.93333333, 1.        , 0.93333333, 1.        , 1.        ,\n",
       "        1.        , 1.        , 1.        , 1.        , 1.        ,\n",
       "        0.93333333, 1.        , 1.        , 1.        , 1.        ,\n",
       "        1.        , 1.        , 1.        , 1.        , 1.        ,\n",
       "        1.        , 1.        , 0.93333333, 1.        , 1.        ,\n",
       "        1.        , 0.93333333, 1.        , 0.93333333, 1.        ,\n",
       "        0.93333333, 1.        , 1.        , 1.        , 0.93333333,\n",
       "        1.        , 0.93333333, 1.        , 0.93333333, 1.        ]),\n",
       " 'split8_test_score': array([1., 1., 1., 1., 1., 1., 1., 1., 1., 1., 1., 1., 1., 1., 1., 1., 1.,\n",
       "        1., 1., 1., 1., 1., 1., 1., 1., 1., 1., 1., 1., 1., 1., 1., 1., 1.,\n",
       "        1., 1., 1., 1., 1., 1., 1., 1., 1., 1., 1., 1., 1., 1., 1., 1., 1.,\n",
       "        1., 1., 1., 1., 1., 1., 1., 1., 1.]),\n",
       " 'split9_test_score': array([1., 1., 1., 1., 1., 1., 1., 1., 1., 1., 1., 1., 1., 1., 1., 1., 1.,\n",
       "        1., 1., 1., 1., 1., 1., 1., 1., 1., 1., 1., 1., 1., 1., 1., 1., 1.,\n",
       "        1., 1., 1., 1., 1., 1., 1., 1., 1., 1., 1., 1., 1., 1., 1., 1., 1.,\n",
       "        1., 1., 1., 1., 1., 1., 1., 1., 1.]),\n",
       " 'mean_test_score': array([0.96      , 0.96      , 0.95333333, 0.96      , 0.96666667,\n",
       "        0.96666667, 0.96666667, 0.96666667, 0.96666667, 0.96666667,\n",
       "        0.96666667, 0.96666667, 0.96666667, 0.96666667, 0.96666667,\n",
       "        0.96666667, 0.97333333, 0.97333333, 0.96666667, 0.97333333,\n",
       "        0.96666667, 0.97333333, 0.97333333, 0.97333333, 0.98      ,\n",
       "        0.97333333, 0.97333333, 0.97333333, 0.97333333, 0.98      ,\n",
       "        0.97333333, 0.97333333, 0.97333333, 0.98      , 0.98      ,\n",
       "        0.97333333, 0.97333333, 0.98      , 0.98      , 0.96666667,\n",
       "        0.96666667, 0.96666667, 0.96666667, 0.96666667, 0.97333333,\n",
       "        0.97333333, 0.96      , 0.97333333, 0.96666667, 0.97333333,\n",
       "        0.96      , 0.96666667, 0.96666667, 0.98      , 0.95333333,\n",
       "        0.97333333, 0.95333333, 0.97333333, 0.95333333, 0.96666667]),\n",
       " 'std_test_score': array([0.05333333, 0.05333333, 0.05206833, 0.05333333, 0.04472136,\n",
       "        0.04472136, 0.04472136, 0.04472136, 0.04472136, 0.04472136,\n",
       "        0.04472136, 0.04472136, 0.04472136, 0.04472136, 0.04472136,\n",
       "        0.04472136, 0.03265986, 0.03265986, 0.04472136, 0.03265986,\n",
       "        0.04472136, 0.03265986, 0.03265986, 0.04422166, 0.0305505 ,\n",
       "        0.03265986, 0.04422166, 0.03265986, 0.03265986, 0.0305505 ,\n",
       "        0.03265986, 0.03265986, 0.03265986, 0.0305505 , 0.0305505 ,\n",
       "        0.03265986, 0.03265986, 0.0305505 , 0.0305505 , 0.04472136,\n",
       "        0.03333333, 0.04472136, 0.03333333, 0.04472136, 0.03265986,\n",
       "        0.03265986, 0.04422166, 0.03265986, 0.03333333, 0.03265986,\n",
       "        0.04422166, 0.04472136, 0.04472136, 0.0305505 , 0.04268749,\n",
       "        0.03265986, 0.04268749, 0.03265986, 0.04268749, 0.03333333]),\n",
       " 'rank_test_score': array([52, 52, 57, 52, 43, 43, 43, 43, 29, 29, 29, 29, 29, 29, 29, 29,  8,\n",
       "         8, 29,  8, 29,  8,  8,  8,  1,  8,  8,  8,  8,  1,  8,  8,  8,  1,\n",
       "         1,  8,  8,  1,  1, 29, 43, 29, 43, 29,  8,  8, 52,  8, 43,  8, 52,\n",
       "        29, 43,  1, 57,  8, 57,  8, 57, 43])}"
      ]
     },
     "execution_count": 76,
     "metadata": {},
     "output_type": "execute_result"
    }
   ],
   "source": [
    "k_range = range(1,31)\n",
    "we_opt = ['uniform','distance']\n",
    "param_grid = dict(n_neighbors=k_range,weights=we_opt)\n",
    "# print(param_grid)\n",
    "grid = GridSearchCV(knn,param_grid,cv=10,scoring='accuracy',refit=True)\n",
    "# print(grid)\n",
    "grid.fit(X,y)\n",
    "grid.cv_results_"
   ]
  },
  {
   "cell_type": "code",
   "execution_count": 77,
   "metadata": {},
   "outputs": [
    {
     "name": "stdout",
     "output_type": "stream",
     "text": [
      "0.9800000000000001\n",
      "24\n",
      "0.9800000000000001\n",
      "{'n_neighbors': 13, 'weights': 'uniform'}\n"
     ]
    }
   ],
   "source": [
    "mean_res=(grid.cv_results_['mean_test_score'])\n",
    "print(mean_res.max())\n",
    "print(np.argmax(mean_res))\n",
    "print(grid.best_score_)\n",
    "print(grid.best_params_)\n",
    "\n",
    "#shortcut : GridSearchCV automatically refits the best model using all of the data"
   ]
  },
  {
   "cell_type": "code",
   "execution_count": 78,
   "metadata": {},
   "outputs": [],
   "source": [
    "#Reduce comp expense using RandomizedSearchCV\n",
    "# --searching many parameter at once \n",
    "# --RSCV searches subset of parameters\n",
    "# --specify a conti.distribution(rather than a list of values)for conti.para(regularization nd regression)"
   ]
  },
  {
   "cell_type": "code",
   "execution_count": 79,
   "metadata": {},
   "outputs": [],
   "source": [
    "from sklearn.model_selection import RandomizedSearchCV\n",
    "param_dist = dict(n_neighbors=k_range,weights=we_opt)\n"
   ]
  },
  {
   "cell_type": "code",
   "execution_count": 80,
   "metadata": {},
   "outputs": [
    {
     "data": {
      "text/plain": [
       "{'mean_fit_time': array([0.00080159, 0.00059853, 0.00029924, 0.00019956, 0.00029936,\n",
       "        0.00029945, 0.00049911, 0.        ]),\n",
       " 'std_fit_time': array([0.00059531, 0.0004887 , 0.0004571 , 0.00039911, 0.00045728,\n",
       "        0.00045743, 0.00049911, 0.        ]),\n",
       " 'mean_score_time': array([0.00119317, 0.00119772, 0.00129919, 0.00099764, 0.00139637,\n",
       "        0.00129514, 0.00079753, 0.0009974 ]),\n",
       " 'std_score_time': array([7.43262403e-04, 5.87735603e-04, 4.60985659e-04, 1.87185158e-06,\n",
       "        4.88659230e-04, 4.58349047e-04, 3.98767079e-04, 2.43140197e-07]),\n",
       " 'param_weights': masked_array(data=['distance', 'uniform', 'uniform', 'uniform', 'uniform',\n",
       "                    'distance', 'distance', 'uniform'],\n",
       "              mask=[False, False, False, False, False, False, False, False],\n",
       "        fill_value='?',\n",
       "             dtype=object),\n",
       " 'param_n_neighbors': masked_array(data=[16, 22, 18, 27, 29, 10, 22, 14],\n",
       "              mask=[False, False, False, False, False, False, False, False],\n",
       "        fill_value='?',\n",
       "             dtype=object),\n",
       " 'params': [{'weights': 'distance', 'n_neighbors': 16},\n",
       "  {'weights': 'uniform', 'n_neighbors': 22},\n",
       "  {'weights': 'uniform', 'n_neighbors': 18},\n",
       "  {'weights': 'uniform', 'n_neighbors': 27},\n",
       "  {'weights': 'uniform', 'n_neighbors': 29},\n",
       "  {'weights': 'distance', 'n_neighbors': 10},\n",
       "  {'weights': 'distance', 'n_neighbors': 22},\n",
       "  {'weights': 'uniform', 'n_neighbors': 14}],\n",
       " 'split0_test_score': array([1.        , 0.93333333, 1.        , 0.93333333, 0.93333333,\n",
       "        1.        , 1.        , 1.        ]),\n",
       " 'split1_test_score': array([0.93333333, 0.93333333, 0.93333333, 0.93333333, 0.93333333,\n",
       "        0.93333333, 0.93333333, 0.93333333]),\n",
       " 'split2_test_score': array([1., 1., 1., 1., 1., 1., 1., 1.]),\n",
       " 'split3_test_score': array([1.        , 1.        , 1.        , 1.        , 0.93333333,\n",
       "        1.        , 1.        , 1.        ]),\n",
       " 'split4_test_score': array([0.93333333, 1.        , 1.        , 1.        , 1.        ,\n",
       "        0.93333333, 0.86666667, 1.        ]),\n",
       " 'split5_test_score': array([0.93333333, 0.93333333, 0.93333333, 0.86666667, 0.86666667,\n",
       "        0.93333333, 0.93333333, 0.86666667]),\n",
       " 'split6_test_score': array([0.93333333, 0.93333333, 0.93333333, 0.93333333, 0.93333333,\n",
       "        0.93333333, 0.93333333, 0.93333333]),\n",
       " 'split7_test_score': array([1.        , 0.93333333, 1.        , 1.        , 0.93333333,\n",
       "        1.        , 1.        , 1.        ]),\n",
       " 'split8_test_score': array([1., 1., 1., 1., 1., 1., 1., 1.]),\n",
       " 'split9_test_score': array([1., 1., 1., 1., 1., 1., 1., 1.]),\n",
       " 'mean_test_score': array([0.97333333, 0.96666667, 0.98      , 0.96666667, 0.95333333,\n",
       "        0.97333333, 0.96666667, 0.97333333]),\n",
       " 'std_test_score': array([0.03265986, 0.03333333, 0.0305505 , 0.04472136, 0.04268749,\n",
       "        0.03265986, 0.04472136, 0.04422166]),\n",
       " 'rank_test_score': array([2, 6, 1, 6, 8, 2, 5, 2])}"
      ]
     },
     "execution_count": 80,
     "metadata": {},
     "output_type": "execute_result"
    }
   ],
   "source": [
    "# n_iter = controls the number of search\n",
    "rand = RandomizedSearchCV(knn,param_dist,cv=10,scoring='accuracy',n_iter=8,random_state=5)\n",
    "rand.fit(X,y)\n",
    "rand.cv_results_\n"
   ]
  },
  {
   "cell_type": "code",
   "execution_count": 83,
   "metadata": {},
   "outputs": [
    {
     "name": "stdout",
     "output_type": "stream",
     "text": [
      "0.9800000000000001\n",
      "{'weights': 'uniform', 'n_neighbors': 18}\n"
     ]
    }
   ],
   "source": [
    "print(rand.best_score_)\n",
    "print(rand.best_params_)"
   ]
  },
  {
   "cell_type": "code",
   "execution_count": 86,
   "metadata": {},
   "outputs": [
    {
     "name": "stdout",
     "output_type": "stream",
     "text": [
      "[0.973, 0.98, 0.98, 0.98, 0.98, 0.98, 0.98, 0.973, 0.98, 0.973, 0.98, 0.973, 0.973, 0.98, 0.98, 0.98, 0.98, 0.98, 0.98, 0.98]\n"
     ]
    }
   ],
   "source": [
    "best_score=[]\n",
    "for _ in range(20):\n",
    "    rand = RandomizedSearchCV(knn,param_dist,cv=10,scoring='accuracy',n_iter=8)\n",
    "    rand.fit(X,y)\n",
    "    best_score.append(round(rand.best_score_,3))\n",
    "print(best_score)\n",
    "\n",
    "    "
   ]
  },
  {
   "cell_type": "code",
   "execution_count": null,
   "metadata": {},
   "outputs": [],
   "source": []
  }
 ],
 "metadata": {
  "kernelspec": {
   "display_name": "Python 3",
   "language": "python",
   "name": "python3"
  },
  "language_info": {
   "codemirror_mode": {
    "name": "ipython",
    "version": 3
   },
   "file_extension": ".py",
   "mimetype": "text/x-python",
   "name": "python",
   "nbconvert_exporter": "python",
   "pygments_lexer": "ipython3",
   "version": "3.7.6"
  }
 },
 "nbformat": 4,
 "nbformat_minor": 4
}
