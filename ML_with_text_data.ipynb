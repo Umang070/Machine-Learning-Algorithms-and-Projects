{
 "cells": [
  {
   "cell_type": "code",
   "execution_count": 31,
   "metadata": {},
   "outputs": [],
   "source": [
    "import pandas as pd\n",
    "from sklearn.linear_model import LogisticRegression\n",
    "from sklearn.feature_extraction.text import CountVectorizer\n",
    "from sklearn.model_selection import train_test_split\n",
    "from sklearn.naive_bayes import MultinomialNB\n",
    "from sklearn import metrics"
   ]
  },
  {
   "cell_type": "code",
   "execution_count": 92,
   "metadata": {},
   "outputs": [],
   "source": [
    "yelp_1 = pd.read_csv(\"C:\\\\Users\\\\UMANG PATEL\\\\Desktop\\\\Scikit_learn\\\\pycon-2016-tutorial-master\\\\data\\\\yelp.csv\")"
   ]
  },
  {
   "cell_type": "code",
   "execution_count": 93,
   "metadata": {},
   "outputs": [
    {
     "data": {
      "text/html": [
       "<div>\n",
       "<style scoped>\n",
       "    .dataframe tbody tr th:only-of-type {\n",
       "        vertical-align: middle;\n",
       "    }\n",
       "\n",
       "    .dataframe tbody tr th {\n",
       "        vertical-align: top;\n",
       "    }\n",
       "\n",
       "    .dataframe thead th {\n",
       "        text-align: right;\n",
       "    }\n",
       "</style>\n",
       "<table border=\"1\" class=\"dataframe\">\n",
       "  <thead>\n",
       "    <tr style=\"text-align: right;\">\n",
       "      <th></th>\n",
       "      <th>business_id</th>\n",
       "      <th>date</th>\n",
       "      <th>review_id</th>\n",
       "      <th>stars</th>\n",
       "      <th>text</th>\n",
       "      <th>type</th>\n",
       "      <th>user_id</th>\n",
       "      <th>cool</th>\n",
       "      <th>useful</th>\n",
       "      <th>funny</th>\n",
       "    </tr>\n",
       "  </thead>\n",
       "  <tbody>\n",
       "    <tr>\n",
       "      <th>0</th>\n",
       "      <td>9yKzy9PApeiPPOUJEtnvkg</td>\n",
       "      <td>2011-01-26</td>\n",
       "      <td>fWKvX83p0-ka4JS3dc6E5A</td>\n",
       "      <td>5</td>\n",
       "      <td>My wife took me here on my birthday for breakf...</td>\n",
       "      <td>review</td>\n",
       "      <td>rLtl8ZkDX5vH5nAx9C3q5Q</td>\n",
       "      <td>2</td>\n",
       "      <td>5</td>\n",
       "      <td>0</td>\n",
       "    </tr>\n",
       "    <tr>\n",
       "      <th>1</th>\n",
       "      <td>ZRJwVLyzEJq1VAihDhYiow</td>\n",
       "      <td>2011-07-27</td>\n",
       "      <td>IjZ33sJrzXqU-0X6U8NwyA</td>\n",
       "      <td>5</td>\n",
       "      <td>I have no idea why some people give bad review...</td>\n",
       "      <td>review</td>\n",
       "      <td>0a2KyEL0d3Yb1V6aivbIuQ</td>\n",
       "      <td>0</td>\n",
       "      <td>0</td>\n",
       "      <td>0</td>\n",
       "    </tr>\n",
       "    <tr>\n",
       "      <th>2</th>\n",
       "      <td>6oRAC4uyJCsJl1X0WZpVSA</td>\n",
       "      <td>2012-06-14</td>\n",
       "      <td>IESLBzqUCLdSzSqm0eCSxQ</td>\n",
       "      <td>4</td>\n",
       "      <td>love the gyro plate. Rice is so good and I als...</td>\n",
       "      <td>review</td>\n",
       "      <td>0hT2KtfLiobPvh6cDC8JQg</td>\n",
       "      <td>0</td>\n",
       "      <td>1</td>\n",
       "      <td>0</td>\n",
       "    </tr>\n",
       "    <tr>\n",
       "      <th>3</th>\n",
       "      <td>_1QQZuf4zZOyFCvXc0o6Vg</td>\n",
       "      <td>2010-05-27</td>\n",
       "      <td>G-WvGaISbqqaMHlNnByodA</td>\n",
       "      <td>5</td>\n",
       "      <td>Rosie, Dakota, and I LOVE Chaparral Dog Park!!...</td>\n",
       "      <td>review</td>\n",
       "      <td>uZetl9T0NcROGOyFfughhg</td>\n",
       "      <td>1</td>\n",
       "      <td>2</td>\n",
       "      <td>0</td>\n",
       "    </tr>\n",
       "    <tr>\n",
       "      <th>4</th>\n",
       "      <td>6ozycU1RpktNG2-1BroVtw</td>\n",
       "      <td>2012-01-05</td>\n",
       "      <td>1uJFq2r5QfJG_6ExMRCaGw</td>\n",
       "      <td>5</td>\n",
       "      <td>General Manager Scott Petello is a good egg!!!...</td>\n",
       "      <td>review</td>\n",
       "      <td>vYmM4KTsC8ZfQBg-j5MWkw</td>\n",
       "      <td>0</td>\n",
       "      <td>0</td>\n",
       "      <td>0</td>\n",
       "    </tr>\n",
       "  </tbody>\n",
       "</table>\n",
       "</div>"
      ],
      "text/plain": [
       "              business_id        date               review_id  stars  \\\n",
       "0  9yKzy9PApeiPPOUJEtnvkg  2011-01-26  fWKvX83p0-ka4JS3dc6E5A      5   \n",
       "1  ZRJwVLyzEJq1VAihDhYiow  2011-07-27  IjZ33sJrzXqU-0X6U8NwyA      5   \n",
       "2  6oRAC4uyJCsJl1X0WZpVSA  2012-06-14  IESLBzqUCLdSzSqm0eCSxQ      4   \n",
       "3  _1QQZuf4zZOyFCvXc0o6Vg  2010-05-27  G-WvGaISbqqaMHlNnByodA      5   \n",
       "4  6ozycU1RpktNG2-1BroVtw  2012-01-05  1uJFq2r5QfJG_6ExMRCaGw      5   \n",
       "\n",
       "                                                text    type  \\\n",
       "0  My wife took me here on my birthday for breakf...  review   \n",
       "1  I have no idea why some people give bad review...  review   \n",
       "2  love the gyro plate. Rice is so good and I als...  review   \n",
       "3  Rosie, Dakota, and I LOVE Chaparral Dog Park!!...  review   \n",
       "4  General Manager Scott Petello is a good egg!!!...  review   \n",
       "\n",
       "                  user_id  cool  useful  funny  \n",
       "0  rLtl8ZkDX5vH5nAx9C3q5Q     2       5      0  \n",
       "1  0a2KyEL0d3Yb1V6aivbIuQ     0       0      0  \n",
       "2  0hT2KtfLiobPvh6cDC8JQg     0       1      0  \n",
       "3  uZetl9T0NcROGOyFfughhg     1       2      0  \n",
       "4  vYmM4KTsC8ZfQBg-j5MWkw     0       0      0  "
      ]
     },
     "execution_count": 93,
     "metadata": {},
     "output_type": "execute_result"
    }
   ],
   "source": [
    "(yelp_1.head())\n",
    "# yelp.shape"
   ]
  },
  {
   "cell_type": "code",
   "execution_count": 102,
   "metadata": {},
   "outputs": [],
   "source": [
    "yelp = yelp_1.loc[(yelp_1.stars==5)|(yelp_1.stars==1),['text','stars']]\n",
    "# yelp.stars=yelp.stars.astype(object)\n",
    "# yelp.stars.dtypes\n"
   ]
  },
  {
   "cell_type": "code",
   "execution_count": 103,
   "metadata": {},
   "outputs": [
    {
     "data": {
      "text/html": [
       "<div>\n",
       "<style scoped>\n",
       "    .dataframe tbody tr th:only-of-type {\n",
       "        vertical-align: middle;\n",
       "    }\n",
       "\n",
       "    .dataframe tbody tr th {\n",
       "        vertical-align: top;\n",
       "    }\n",
       "\n",
       "    .dataframe thead th {\n",
       "        text-align: right;\n",
       "    }\n",
       "</style>\n",
       "<table border=\"1\" class=\"dataframe\">\n",
       "  <thead>\n",
       "    <tr style=\"text-align: right;\">\n",
       "      <th></th>\n",
       "      <th>text</th>\n",
       "      <th>stars</th>\n",
       "    </tr>\n",
       "  </thead>\n",
       "  <tbody>\n",
       "    <tr>\n",
       "      <th>1323</th>\n",
       "      <td>I just wanted to add that in addition to party...</td>\n",
       "      <td>5</td>\n",
       "    </tr>\n",
       "    <tr>\n",
       "      <th>3898</th>\n",
       "      <td>Have you ever eaten somewhere and just can't g...</td>\n",
       "      <td>5</td>\n",
       "    </tr>\n",
       "    <tr>\n",
       "      <th>5193</th>\n",
       "      <td>Not exactly what I expected .....................</td>\n",
       "      <td>5</td>\n",
       "    </tr>\n",
       "    <tr>\n",
       "      <th>6634</th>\n",
       "      <td>I am a huge fan of Chipotle but I will never c...</td>\n",
       "      <td>1</td>\n",
       "    </tr>\n",
       "    <tr>\n",
       "      <th>4165</th>\n",
       "      <td>OMG! what is the rave about? this place is dis...</td>\n",
       "      <td>1</td>\n",
       "    </tr>\n",
       "    <tr>\n",
       "      <th>9081</th>\n",
       "      <td>Yes, the place is busy every time I go there, ...</td>\n",
       "      <td>5</td>\n",
       "    </tr>\n",
       "    <tr>\n",
       "      <th>2983</th>\n",
       "      <td>We went there yesterday a I enjoyed it. The at...</td>\n",
       "      <td>5</td>\n",
       "    </tr>\n",
       "    <tr>\n",
       "      <th>8223</th>\n",
       "      <td>NEW LOCATION FOR 2012: \\nPortland Parkway in D...</td>\n",
       "      <td>5</td>\n",
       "    </tr>\n",
       "    <tr>\n",
       "      <th>9884</th>\n",
       "      <td>I love this place I have been here 2wice and i...</td>\n",
       "      <td>5</td>\n",
       "    </tr>\n",
       "    <tr>\n",
       "      <th>3140</th>\n",
       "      <td>My husband and I eat out a lot and we had the ...</td>\n",
       "      <td>5</td>\n",
       "    </tr>\n",
       "  </tbody>\n",
       "</table>\n",
       "</div>"
      ],
      "text/plain": [
       "                                                   text  stars\n",
       "1323  I just wanted to add that in addition to party...      5\n",
       "3898  Have you ever eaten somewhere and just can't g...      5\n",
       "5193  Not exactly what I expected .....................      5\n",
       "6634  I am a huge fan of Chipotle but I will never c...      1\n",
       "4165  OMG! what is the rave about? this place is dis...      1\n",
       "9081  Yes, the place is busy every time I go there, ...      5\n",
       "2983  We went there yesterday a I enjoyed it. The at...      5\n",
       "8223  NEW LOCATION FOR 2012: \\nPortland Parkway in D...      5\n",
       "9884  I love this place I have been here 2wice and i...      5\n",
       "3140  My husband and I eat out a lot and we had the ...      5"
      ]
     },
     "execution_count": 103,
     "metadata": {},
     "output_type": "execute_result"
    }
   ],
   "source": [
    "yelp.sample(10)\n",
    "# print(yelp.stars.value_counts())\n",
    "# yelp['stars'] = yelp.stars.map({5:1,1:0})\n",
    "# yelp.sample(10)\n"
   ]
  },
  {
   "cell_type": "code",
   "execution_count": 104,
   "metadata": {},
   "outputs": [
    {
     "name": "stdout",
     "output_type": "stream",
     "text": [
      "(4086,)\n",
      "(4086,)\n"
     ]
    }
   ],
   "source": [
    "X = yelp.text     #always remember to pass series not DF in this type of problem\n",
    "y = yelp.stars\n",
    "print(X.shape)\n",
    "print(y.shape)"
   ]
  },
  {
   "cell_type": "code",
   "execution_count": 135,
   "metadata": {},
   "outputs": [
    {
     "name": "stdout",
     "output_type": "stream",
     "text": [
      "(3064,)\n",
      "(3064,)\n",
      "(1022,)\n",
      "(1022,)\n"
     ]
    }
   ],
   "source": [
    "X_train,X_test,y_train,y_test = train_test_split(X,y,random_state=1)\n",
    "print(X_train.shape)\n",
    "print(y_train.shape)\n",
    "print(X_test.shape)\n",
    "print(y_test.shape)\n"
   ]
  },
  {
   "cell_type": "code",
   "execution_count": 106,
   "metadata": {},
   "outputs": [],
   "source": [
    "vect = CountVectorizer()"
   ]
  },
  {
   "cell_type": "code",
   "execution_count": 107,
   "metadata": {},
   "outputs": [
    {
     "data": {
      "text/plain": [
       "<3064x16825 sparse matrix of type '<class 'numpy.int64'>'\n",
       "\twith 237720 stored elements in Compressed Sparse Row format>"
      ]
     },
     "execution_count": 107,
     "metadata": {},
     "output_type": "execute_result"
    }
   ],
   "source": [
    "vect.fit(X_train)      #here our vocab is ready\n",
    "X_train_dtm = vect.transform(X_train)\n",
    "X_train_dtm"
   ]
  },
  {
   "cell_type": "code",
   "execution_count": 108,
   "metadata": {},
   "outputs": [
    {
     "data": {
      "text/plain": [
       "<1022x16825 sparse matrix of type '<class 'numpy.int64'>'\n",
       "\twith 77006 stored elements in Compressed Sparse Row format>"
      ]
     },
     "execution_count": 108,
     "metadata": {},
     "output_type": "execute_result"
    }
   ],
   "source": [
    "X_test_dtm = vect.transform(X_test)\n",
    "X_test_dtm"
   ]
  },
  {
   "cell_type": "code",
   "execution_count": 109,
   "metadata": {},
   "outputs": [],
   "source": [
    "nb = MultinomialNB()"
   ]
  },
  {
   "cell_type": "code",
   "execution_count": 110,
   "metadata": {},
   "outputs": [
    {
     "name": "stdout",
     "output_type": "stream",
     "text": [
      "Wall time: 5.98 ms\n"
     ]
    },
    {
     "data": {
      "text/plain": [
       "MultinomialNB(alpha=1.0, class_prior=None, fit_prior=True)"
      ]
     },
     "execution_count": 110,
     "metadata": {},
     "output_type": "execute_result"
    }
   ],
   "source": [
    "%time nb.fit(X_train_dtm,y_train)"
   ]
  },
  {
   "cell_type": "code",
   "execution_count": 30,
   "metadata": {},
   "outputs": [],
   "source": [
    "y_pred = nb.predict(X_test_dtm)"
   ]
  },
  {
   "cell_type": "code",
   "execution_count": 111,
   "metadata": {},
   "outputs": [
    {
     "data": {
      "text/plain": [
       "0.9187866927592955"
      ]
     },
     "execution_count": 111,
     "metadata": {},
     "output_type": "execute_result"
    }
   ],
   "source": [
    "metrics.accuracy_score(y_test,y_pred)"
   ]
  },
  {
   "cell_type": "code",
   "execution_count": 2,
   "metadata": {},
   "outputs": [
    {
     "ename": "NameError",
     "evalue": "name 'metrics' is not defined",
     "output_type": "error",
     "traceback": [
      "\u001b[1;31m---------------------------------------------------------------------------\u001b[0m",
      "\u001b[1;31mNameError\u001b[0m                                 Traceback (most recent call last)",
      "\u001b[1;32m<ipython-input-2-9ed6307cfe05>\u001b[0m in \u001b[0;36m<module>\u001b[1;34m\u001b[0m\n\u001b[0;32m      1\u001b[0m \u001b[1;31m# y_test.value_counts()\u001b[0m\u001b[1;33m\u001b[0m\u001b[1;33m\u001b[0m\u001b[1;33m\u001b[0m\u001b[0m\n\u001b[1;32m----> 2\u001b[1;33m \u001b[0mmetrics\u001b[0m\u001b[1;33m.\u001b[0m\u001b[0mconfusion_matrix\u001b[0m\u001b[1;33m(\u001b[0m\u001b[0my_test\u001b[0m\u001b[1;33m,\u001b[0m\u001b[0my_pred\u001b[0m\u001b[1;33m)\u001b[0m\u001b[1;33m\u001b[0m\u001b[1;33m\u001b[0m\u001b[0m\n\u001b[0m",
      "\u001b[1;31mNameError\u001b[0m: name 'metrics' is not defined"
     ]
    }
   ],
   "source": [
    "# y_test.value_counts()\n",
    "metrics.confusion_matrix(y_test,y_pred)"
   ]
  },
  {
   "cell_type": "code",
   "execution_count": 113,
   "metadata": {},
   "outputs": [
    {
     "data": {
      "text/plain": [
       "2175    This has to be the worst restaurant in terms o...\n",
       "1781    If you like the stuck up Scottsdale vibe this ...\n",
       "2674    I'm sorry to be what seems to be the lone one ...\n",
       "9984    Went last night to Whore Foods to get basics t...\n",
       "3392    I found Lisa G's while driving through phoenix...\n",
       "8283    Don't know where I should start. Grand opening...\n",
       "2765    Went last week, and ordered a dozen variety. I...\n",
       "2839    Never Again,\\nI brought my Mountain Bike in (w...\n",
       "321     My wife and I live around the corner, hadn't e...\n",
       "1919                                         D-scust-ing.\n",
       "2490    Lazy Q CLOSED in 2010.  New Owners cleaned up ...\n",
       "9125    La Grande Orange Grocery has a problem. It can...\n",
       "9185    For frozen yogurt quality, I give this place a...\n",
       "436     this another place that i would give no stars ...\n",
       "2051    Sadly with new owners comes changes on menu.  ...\n",
       "1721    This is the closest to a New York hipster styl...\n",
       "3447    If you want a school that cares more about you...\n",
       "842     Boy is the name a temptation.Seriously :)  I'l...\n",
       "6159    Really, if I could, I would give this place ze...\n",
       "943     Don't waste your time...Arrowhead mall on the ...\n",
       "5977    You want good food? You'd be better off smuggl...\n",
       "8833    The owner has changed hands & this place isn't...\n",
       "6584    Jimmy Johns is cheaper and better ... The Capr...\n",
       "1899    Buca Di Beppo is literally, italian restaurant...\n",
       "9953    \"Hipster,Trendy\" ????-I think NOT !!!! Very di...\n",
       "2060                This place is closed.  Good riddance.\n",
       "3082    Currently having a liquidation sale, but it's ...\n",
       "8220    Maybe I ate at a different restaurant than the...\n",
       "3634    Seriously?! With grocery stores like Fresh & E...\n",
       "3266    Absolutely awful... these guys have NO idea wh...\n",
       "7397    This place sucks!! I moved to the valley and h...\n",
       "4473    It is what you would expect from any themed pl...\n",
       "5502    Angry Bro Bar !  Please go here if you wear si...\n",
       "2615    Great in its day, now leaves a lot to be desir...\n",
       "3413    I purchased the Enotria groupon when it was re...\n",
       "2999    I can't even believe I actually went to this r...\n",
       "1372    No offense to everyone who gave this place 5 s...\n",
       "1291    Every time I come here the staff is so rude! I...\n",
       "6222    My mother always told me, if I didn't have any...\n",
       "9296    My boyfriend and I tried this place last year ...\n",
       "7975    What are you all talking about?! This place is...\n",
       "4630    I used to always go here for tires until my me...\n",
       "7130    I was not impressed. The food was bad & expens...\n",
       "5818    Most horrible buffet I have ever been to.\\n\\nM...\n",
       "3704    Staff is nice, and that's it.\\nThey use very c...\n",
       "8741    They served us stale rice.  Average main dishe...\n",
       "3938    We were so disappointed!  We were on vacation ...\n",
       "7631    this is a business located in the fry's grocer...\n",
       "8681    As I promised myself, I'd go back again to try...\n",
       "1532    Cold, under done chips. If a Mexican food rest...\n",
       "113     Unless you are a regular or look like your wal...\n",
       "4165    OMG! what is the rave about? this place is dis...\n",
       "9299    The salad plates were not chilled... As they u...\n",
       "4311    Donuts are really good, if they have any when ...\n",
       "7035    Totally excited to try this place out, my gran...\n",
       "8000    Still a place that is unacceptable in my book-...\n",
       "3755    Have been going to LGO since 2003 and have alw...\n",
       "507     HELLISH HELLISH SUMMER WEATHER (March thru Oct...\n",
       "Name: text, dtype: object"
      ]
     },
     "execution_count": 113,
     "metadata": {},
     "output_type": "execute_result"
    }
   ],
   "source": [
    "(X_test[y_pred > y_test])"
   ]
  },
  {
   "cell_type": "code",
   "execution_count": 114,
   "metadata": {},
   "outputs": [
    {
     "data": {
      "text/plain": [
       "7148    I now consider myself an Arizonian. If you dri...\n",
       "4963    This is by far my favourite department store, ...\n",
       "6318    Since I have ranted recently on poor customer ...\n",
       "380     This is a must try for any Mani Pedi fan. I us...\n",
       "5565    I`ve had work done by this shop a few times th...\n",
       "3448    I was there last week with my sisters and whil...\n",
       "6050    I went to sears today to check on a layaway th...\n",
       "2504    I've passed by prestige nails in walmart 100s ...\n",
       "2475    This place is so great! I am a nanny and had t...\n",
       "241     I was sad to come back to lai lai's and they n...\n",
       "3149    I was told to see Greg after a local shop diag...\n",
       "423     These guys helped me out with my rear windshie...\n",
       "763     Here's the deal. I said I was done with OT, bu...\n",
       "8956    I took my computer to RedSeven recently when m...\n",
       "750     This store has the most pleasant employees of ...\n",
       "9765    You can't give anything less than 5 stars to a...\n",
       "6334    I came here today for a manicure and pedicure....\n",
       "1282    Loved my haircut. Walked in and waited for jus...\n",
       "1266    I've never been to this location before. My hu...\n",
       "402     Once again Wildflower proves why it's my favor...\n",
       "4034    \"Fine dining\" is not just a setting.  it isn't...\n",
       "2444    EXCELLENT CUSTOMER SERVICE! \\n\\nEven with Happ...\n",
       "2494    What a great surprise stumbling across this ba...\n",
       "5736    Thank goodness for Sue at Mill Avenue Travel. ...\n",
       "7903    First, I'm sorry this review is lengthy, but i...\n",
       "Name: text, dtype: object"
      ]
     },
     "execution_count": 114,
     "metadata": {},
     "output_type": "execute_result"
    }
   ],
   "source": [
    "(X_test[y_pred  < y_test])"
   ]
  },
  {
   "cell_type": "code",
   "execution_count": 118,
   "metadata": {},
   "outputs": [
    {
     "data": {
      "text/plain": [
       "3922    5\n",
       "8379    5\n",
       "4266    5\n",
       "5577    5\n",
       "537     5\n",
       "       ..\n",
       "6846    5\n",
       "1588    5\n",
       "8451    5\n",
       "7903    5\n",
       "8255    5\n",
       "Name: stars, Length: 1022, dtype: int64"
      ]
     },
     "execution_count": 118,
     "metadata": {},
     "output_type": "execute_result"
    }
   ],
   "source": [
    "# X_test[6318]        --------------5 stars but prdict as a 1star\n",
    "# y_test"
   ]
  },
  {
   "cell_type": "code",
   "execution_count": 137,
   "metadata": {},
   "outputs": [
    {
     "name": "stdout",
     "output_type": "stream",
     "text": [
      "0.9996323549491293\n"
     ]
    }
   ],
   "source": [
    "y_pred_proba = nb.predict_proba(X_test_dtm)[:,1]\n",
    "# print(y_pred_proba[241])"
   ]
  },
  {
   "cell_type": "code",
   "execution_count": 138,
   "metadata": {},
   "outputs": [
    {
     "data": {
      "text/plain": [
       "0.9391635104285566"
      ]
     },
     "execution_count": 138,
     "metadata": {},
     "output_type": "execute_result"
    }
   ],
   "source": [
    "metrics.roc_auc_score(y_test,y_pred_prba)"
   ]
  },
  {
   "cell_type": "code",
   "execution_count": null,
   "metadata": {},
   "outputs": [],
   "source": []
  },
  {
   "cell_type": "code",
   "execution_count": 150,
   "metadata": {},
   "outputs": [
    {
     "name": "stdout",
     "output_type": "stream",
     "text": [
      "5    838\n",
      "1    184\n",
      "Name: stars, dtype: int64\n"
     ]
    },
    {
     "data": {
      "text/plain": [
       "5    0.819961\n",
       "1    0.180039\n",
       "Name: stars, dtype: float64"
      ]
     },
     "execution_count": 150,
     "metadata": {},
     "output_type": "execute_result"
    }
   ],
   "source": [
    "# Null Accuracy - achived by always predictinng the most frequent class\n",
    "print(y_test.value_counts())\n",
    "# print(max(y_test.mean(),1-y_test.mean())) #for binary class null acc.\n",
    "y_test.value_counts()/len(y_test) #for multiclass null acc.-----most freq class is 5"
   ]
  },
  {
   "cell_type": "code",
   "execution_count": 151,
   "metadata": {},
   "outputs": [
    {
     "name": "stdout",
     "output_type": "stream",
     "text": [
      "TRUE [5 5 5 5 5 1 1 5 5 5 5 5 5 5 1 5 5 1 1 1]\n",
      "PRED [5 5 5 5 5 5 1 5 5 5 5 5 5 5 1 5 5 5 5 1]\n"
     ]
    }
   ],
   "source": [
    "print(\"TRUE\",y_test.values[0:20])#null accuracy\n",
    "print(\"PRED\",y_pred[0:20])\n"
   ]
  },
  {
   "cell_type": "code",
   "execution_count": 153,
   "metadata": {},
   "outputs": [
    {
     "data": {
      "text/plain": [
       "16825"
      ]
     },
     "execution_count": 153,
     "metadata": {},
     "output_type": "execute_result"
    }
   ],
   "source": [
    "X_train_tokens = vect.get_feature_names()\n",
    "len(X_train_tokens)"
   ]
  },
  {
   "cell_type": "code",
   "execution_count": 204,
   "metadata": {},
   "outputs": [],
   "source": [
    "# X_train_tokens[-50:]"
   ]
  },
  {
   "cell_type": "code",
   "execution_count": 156,
   "metadata": {},
   "outputs": [
    {
     "data": {
      "text/plain": [
       "array([[26.,  4.,  1., ...,  0.,  0.,  0.],\n",
       "       [39.,  5.,  0., ...,  1.,  1.,  1.]])"
      ]
     },
     "execution_count": 156,
     "metadata": {},
     "output_type": "execute_result"
    }
   ],
   "source": [
    "# nb.class_count_\n",
    "nb.feature_count_"
   ]
  },
  {
   "cell_type": "code",
   "execution_count": 157,
   "metadata": {},
   "outputs": [
    {
     "data": {
      "text/plain": [
       "(2, 16825)"
      ]
     },
     "execution_count": 157,
     "metadata": {},
     "output_type": "execute_result"
    }
   ],
   "source": [
    "nb.feature_count_.shape"
   ]
  },
  {
   "cell_type": "code",
   "execution_count": 159,
   "metadata": {},
   "outputs": [],
   "source": [
    "bad_token_count = nb.feature_count_[0,:]"
   ]
  },
  {
   "cell_type": "code",
   "execution_count": 160,
   "metadata": {},
   "outputs": [],
   "source": [
    "best_token_count = nb.feature_count_[1,:]"
   ]
  },
  {
   "cell_type": "code",
   "execution_count": 163,
   "metadata": {},
   "outputs": [],
   "source": [
    "# len(best_token_count)"
   ]
  },
  {
   "cell_type": "code",
   "execution_count": 168,
   "metadata": {},
   "outputs": [],
   "source": [
    "tokens = pd.DataFrame({'token':X_train_tokens,'best':best_token_count,'bad':bad_token_count}).set_index('token')"
   ]
  },
  {
   "cell_type": "code",
   "execution_count": 214,
   "metadata": {},
   "outputs": [
    {
     "data": {
      "text/html": [
       "<div>\n",
       "<style scoped>\n",
       "    .dataframe tbody tr th:only-of-type {\n",
       "        vertical-align: middle;\n",
       "    }\n",
       "\n",
       "    .dataframe tbody tr th {\n",
       "        vertical-align: top;\n",
       "    }\n",
       "\n",
       "    .dataframe thead th {\n",
       "        text-align: right;\n",
       "    }\n",
       "</style>\n",
       "<table border=\"1\" class=\"dataframe\">\n",
       "  <thead>\n",
       "    <tr style=\"text-align: right;\">\n",
       "      <th></th>\n",
       "      <th>best</th>\n",
       "      <th>bad</th>\n",
       "      <th>bad_freq</th>\n",
       "      <th>best_freq</th>\n",
       "      <th>best_ratio</th>\n",
       "      <th>best_token_percentage</th>\n",
       "      <th>bad_token_percentage</th>\n",
       "    </tr>\n",
       "    <tr>\n",
       "      <th>token</th>\n",
       "      <th></th>\n",
       "      <th></th>\n",
       "      <th></th>\n",
       "      <th></th>\n",
       "      <th></th>\n",
       "      <th></th>\n",
       "      <th></th>\n",
       "    </tr>\n",
       "  </thead>\n",
       "  <tbody>\n",
       "    <tr>\n",
       "      <th>chopstick</th>\n",
       "      <td>2.0</td>\n",
       "      <td>1.0</td>\n",
       "      <td>0.00177</td>\n",
       "      <td>0.000800</td>\n",
       "      <td>0.452181</td>\n",
       "      <td>45.218087</td>\n",
       "      <td>54.781913</td>\n",
       "    </tr>\n",
       "    <tr>\n",
       "      <th>clipped</th>\n",
       "      <td>2.0</td>\n",
       "      <td>2.0</td>\n",
       "      <td>0.00354</td>\n",
       "      <td>0.000800</td>\n",
       "      <td>0.226090</td>\n",
       "      <td>22.609044</td>\n",
       "      <td>77.390956</td>\n",
       "    </tr>\n",
       "    <tr>\n",
       "      <th>decisions</th>\n",
       "      <td>5.0</td>\n",
       "      <td>3.0</td>\n",
       "      <td>0.00531</td>\n",
       "      <td>0.002001</td>\n",
       "      <td>0.376817</td>\n",
       "      <td>37.681739</td>\n",
       "      <td>62.318261</td>\n",
       "    </tr>\n",
       "    <tr>\n",
       "      <th>satori</th>\n",
       "      <td>2.0</td>\n",
       "      <td>1.0</td>\n",
       "      <td>0.00177</td>\n",
       "      <td>0.000800</td>\n",
       "      <td>0.452181</td>\n",
       "      <td>45.218087</td>\n",
       "      <td>54.781913</td>\n",
       "    </tr>\n",
       "    <tr>\n",
       "      <th>performances</th>\n",
       "      <td>2.0</td>\n",
       "      <td>1.0</td>\n",
       "      <td>0.00177</td>\n",
       "      <td>0.000800</td>\n",
       "      <td>0.452181</td>\n",
       "      <td>45.218087</td>\n",
       "      <td>54.781913</td>\n",
       "    </tr>\n",
       "    <tr>\n",
       "      <th>overcrowded</th>\n",
       "      <td>1.0</td>\n",
       "      <td>3.0</td>\n",
       "      <td>0.00531</td>\n",
       "      <td>0.000400</td>\n",
       "      <td>0.075363</td>\n",
       "      <td>7.536348</td>\n",
       "      <td>92.463652</td>\n",
       "    </tr>\n",
       "    <tr>\n",
       "      <th>50s</th>\n",
       "      <td>2.0</td>\n",
       "      <td>1.0</td>\n",
       "      <td>0.00177</td>\n",
       "      <td>0.000800</td>\n",
       "      <td>0.452181</td>\n",
       "      <td>45.218087</td>\n",
       "      <td>54.781913</td>\n",
       "    </tr>\n",
       "  </tbody>\n",
       "</table>\n",
       "</div>"
      ],
      "text/plain": [
       "              best  bad  bad_freq  best_freq  best_ratio  \\\n",
       "token                                                      \n",
       "chopstick      2.0  1.0   0.00177   0.000800    0.452181   \n",
       "clipped        2.0  2.0   0.00354   0.000800    0.226090   \n",
       "decisions      5.0  3.0   0.00531   0.002001    0.376817   \n",
       "satori         2.0  1.0   0.00177   0.000800    0.452181   \n",
       "performances   2.0  1.0   0.00177   0.000800    0.452181   \n",
       "overcrowded    1.0  3.0   0.00531   0.000400    0.075363   \n",
       "50s            2.0  1.0   0.00177   0.000800    0.452181   \n",
       "\n",
       "              best_token_percentage  bad_token_percentage  \n",
       "token                                                      \n",
       "chopstick                 45.218087             54.781913  \n",
       "clipped                   22.609044             77.390956  \n",
       "decisions                 37.681739             62.318261  \n",
       "satori                    45.218087             54.781913  \n",
       "performances              45.218087             54.781913  \n",
       "overcrowded                7.536348             92.463652  \n",
       "50s                       45.218087             54.781913  "
      ]
     },
     "execution_count": 214,
     "metadata": {},
     "output_type": "execute_result"
    }
   ],
   "source": [
    "tokens.sample(7,random_state=1)\n",
    "# tokens.isnull().sum()\n",
    "\n",
    "# nb.class_count_  #out of 16000 tokens 2499 tokens atleast appears 1 time in best\n"
   ]
  },
  {
   "cell_type": "code",
   "execution_count": 178,
   "metadata": {},
   "outputs": [
    {
     "data": {
      "text/html": [
       "<div>\n",
       "<style scoped>\n",
       "    .dataframe tbody tr th:only-of-type {\n",
       "        vertical-align: middle;\n",
       "    }\n",
       "\n",
       "    .dataframe tbody tr th {\n",
       "        vertical-align: top;\n",
       "    }\n",
       "\n",
       "    .dataframe thead th {\n",
       "        text-align: right;\n",
       "    }\n",
       "</style>\n",
       "<table border=\"1\" class=\"dataframe\">\n",
       "  <thead>\n",
       "    <tr style=\"text-align: right;\">\n",
       "      <th></th>\n",
       "      <th>best</th>\n",
       "      <th>bad</th>\n",
       "    </tr>\n",
       "    <tr>\n",
       "      <th>token</th>\n",
       "      <th></th>\n",
       "      <th></th>\n",
       "    </tr>\n",
       "  </thead>\n",
       "  <tbody>\n",
       "    <tr>\n",
       "      <th>chopstick</th>\n",
       "      <td>2.0</td>\n",
       "      <td>1.0</td>\n",
       "    </tr>\n",
       "    <tr>\n",
       "      <th>clipped</th>\n",
       "      <td>2.0</td>\n",
       "      <td>2.0</td>\n",
       "    </tr>\n",
       "    <tr>\n",
       "      <th>decisions</th>\n",
       "      <td>5.0</td>\n",
       "      <td>3.0</td>\n",
       "    </tr>\n",
       "    <tr>\n",
       "      <th>satori</th>\n",
       "      <td>2.0</td>\n",
       "      <td>1.0</td>\n",
       "    </tr>\n",
       "    <tr>\n",
       "      <th>performances</th>\n",
       "      <td>2.0</td>\n",
       "      <td>1.0</td>\n",
       "    </tr>\n",
       "    <tr>\n",
       "      <th>overcrowded</th>\n",
       "      <td>1.0</td>\n",
       "      <td>3.0</td>\n",
       "    </tr>\n",
       "    <tr>\n",
       "      <th>50s</th>\n",
       "      <td>2.0</td>\n",
       "      <td>1.0</td>\n",
       "    </tr>\n",
       "  </tbody>\n",
       "</table>\n",
       "</div>"
      ],
      "text/plain": [
       "              best  bad\n",
       "token                  \n",
       "chopstick      2.0  1.0\n",
       "clipped        2.0  2.0\n",
       "decisions      5.0  3.0\n",
       "satori         2.0  1.0\n",
       "performances   2.0  1.0\n",
       "overcrowded    1.0  3.0\n",
       "50s            2.0  1.0"
      ]
     },
     "execution_count": 178,
     "metadata": {},
     "output_type": "execute_result"
    }
   ],
   "source": [
    "tokens['bad'] = tokens.bad + 1\n",
    "tokens['best'] = tokens.best + 1\n",
    "tokens.sample(7, random_state=1)"
   ]
  },
  {
   "cell_type": "code",
   "execution_count": 181,
   "metadata": {},
   "outputs": [],
   "source": [
    "#now we calulate each token frequncy\n",
    "tokens['bad_freq'] = tokens.bad/nb.class_count_[0]\n",
    "tokens['best_freq'] = tokens.best/nb.class_count_[1]"
   ]
  },
  {
   "cell_type": "code",
   "execution_count": 182,
   "metadata": {},
   "outputs": [
    {
     "data": {
      "text/html": [
       "<div>\n",
       "<style scoped>\n",
       "    .dataframe tbody tr th:only-of-type {\n",
       "        vertical-align: middle;\n",
       "    }\n",
       "\n",
       "    .dataframe tbody tr th {\n",
       "        vertical-align: top;\n",
       "    }\n",
       "\n",
       "    .dataframe thead th {\n",
       "        text-align: right;\n",
       "    }\n",
       "</style>\n",
       "<table border=\"1\" class=\"dataframe\">\n",
       "  <thead>\n",
       "    <tr style=\"text-align: right;\">\n",
       "      <th></th>\n",
       "      <th>best</th>\n",
       "      <th>bad</th>\n",
       "      <th>bad_freq</th>\n",
       "      <th>best_freq</th>\n",
       "    </tr>\n",
       "    <tr>\n",
       "      <th>token</th>\n",
       "      <th></th>\n",
       "      <th></th>\n",
       "      <th></th>\n",
       "      <th></th>\n",
       "    </tr>\n",
       "  </thead>\n",
       "  <tbody>\n",
       "    <tr>\n",
       "      <th>chopstick</th>\n",
       "      <td>2.0</td>\n",
       "      <td>1.0</td>\n",
       "      <td>0.00177</td>\n",
       "      <td>0.000800</td>\n",
       "    </tr>\n",
       "    <tr>\n",
       "      <th>clipped</th>\n",
       "      <td>2.0</td>\n",
       "      <td>2.0</td>\n",
       "      <td>0.00354</td>\n",
       "      <td>0.000800</td>\n",
       "    </tr>\n",
       "    <tr>\n",
       "      <th>decisions</th>\n",
       "      <td>5.0</td>\n",
       "      <td>3.0</td>\n",
       "      <td>0.00531</td>\n",
       "      <td>0.002001</td>\n",
       "    </tr>\n",
       "    <tr>\n",
       "      <th>satori</th>\n",
       "      <td>2.0</td>\n",
       "      <td>1.0</td>\n",
       "      <td>0.00177</td>\n",
       "      <td>0.000800</td>\n",
       "    </tr>\n",
       "    <tr>\n",
       "      <th>performances</th>\n",
       "      <td>2.0</td>\n",
       "      <td>1.0</td>\n",
       "      <td>0.00177</td>\n",
       "      <td>0.000800</td>\n",
       "    </tr>\n",
       "    <tr>\n",
       "      <th>overcrowded</th>\n",
       "      <td>1.0</td>\n",
       "      <td>3.0</td>\n",
       "      <td>0.00531</td>\n",
       "      <td>0.000400</td>\n",
       "    </tr>\n",
       "    <tr>\n",
       "      <th>50s</th>\n",
       "      <td>2.0</td>\n",
       "      <td>1.0</td>\n",
       "      <td>0.00177</td>\n",
       "      <td>0.000800</td>\n",
       "    </tr>\n",
       "  </tbody>\n",
       "</table>\n",
       "</div>"
      ],
      "text/plain": [
       "              best  bad  bad_freq  best_freq\n",
       "token                                       \n",
       "chopstick      2.0  1.0   0.00177   0.000800\n",
       "clipped        2.0  2.0   0.00354   0.000800\n",
       "decisions      5.0  3.0   0.00531   0.002001\n",
       "satori         2.0  1.0   0.00177   0.000800\n",
       "performances   2.0  1.0   0.00177   0.000800\n",
       "overcrowded    1.0  3.0   0.00531   0.000400\n",
       "50s            2.0  1.0   0.00177   0.000800"
      ]
     },
     "execution_count": 182,
     "metadata": {},
     "output_type": "execute_result"
    }
   ],
   "source": [
    "tokens.sample(7, random_state=1)"
   ]
  },
  {
   "cell_type": "code",
   "execution_count": 195,
   "metadata": {},
   "outputs": [],
   "source": [
    "tokens['best_token_percentage'] = (tokens.best_freq / tokens.bad_freq)*100\n",
    "tokens['bad_token_percentage'] = 100 - tokens.best_token_percentage"
   ]
  },
  {
   "cell_type": "code",
   "execution_count": 196,
   "metadata": {},
   "outputs": [
    {
     "data": {
      "text/html": [
       "<div>\n",
       "<style scoped>\n",
       "    .dataframe tbody tr th:only-of-type {\n",
       "        vertical-align: middle;\n",
       "    }\n",
       "\n",
       "    .dataframe tbody tr th {\n",
       "        vertical-align: top;\n",
       "    }\n",
       "\n",
       "    .dataframe thead th {\n",
       "        text-align: right;\n",
       "    }\n",
       "</style>\n",
       "<table border=\"1\" class=\"dataframe\">\n",
       "  <thead>\n",
       "    <tr style=\"text-align: right;\">\n",
       "      <th></th>\n",
       "      <th>best</th>\n",
       "      <th>bad</th>\n",
       "      <th>bad_freq</th>\n",
       "      <th>best_freq</th>\n",
       "      <th>best_ratio</th>\n",
       "      <th>best_token_percentage</th>\n",
       "      <th>bad_token_percentage</th>\n",
       "    </tr>\n",
       "    <tr>\n",
       "      <th>token</th>\n",
       "      <th></th>\n",
       "      <th></th>\n",
       "      <th></th>\n",
       "      <th></th>\n",
       "      <th></th>\n",
       "      <th></th>\n",
       "      <th></th>\n",
       "    </tr>\n",
       "  </thead>\n",
       "  <tbody>\n",
       "    <tr>\n",
       "      <th>chopstick</th>\n",
       "      <td>2.0</td>\n",
       "      <td>1.0</td>\n",
       "      <td>0.00177</td>\n",
       "      <td>0.000800</td>\n",
       "      <td>0.452181</td>\n",
       "      <td>45.218087</td>\n",
       "      <td>54.781913</td>\n",
       "    </tr>\n",
       "    <tr>\n",
       "      <th>clipped</th>\n",
       "      <td>2.0</td>\n",
       "      <td>2.0</td>\n",
       "      <td>0.00354</td>\n",
       "      <td>0.000800</td>\n",
       "      <td>0.226090</td>\n",
       "      <td>22.609044</td>\n",
       "      <td>77.390956</td>\n",
       "    </tr>\n",
       "    <tr>\n",
       "      <th>decisions</th>\n",
       "      <td>5.0</td>\n",
       "      <td>3.0</td>\n",
       "      <td>0.00531</td>\n",
       "      <td>0.002001</td>\n",
       "      <td>0.376817</td>\n",
       "      <td>37.681739</td>\n",
       "      <td>62.318261</td>\n",
       "    </tr>\n",
       "    <tr>\n",
       "      <th>satori</th>\n",
       "      <td>2.0</td>\n",
       "      <td>1.0</td>\n",
       "      <td>0.00177</td>\n",
       "      <td>0.000800</td>\n",
       "      <td>0.452181</td>\n",
       "      <td>45.218087</td>\n",
       "      <td>54.781913</td>\n",
       "    </tr>\n",
       "    <tr>\n",
       "      <th>performances</th>\n",
       "      <td>2.0</td>\n",
       "      <td>1.0</td>\n",
       "      <td>0.00177</td>\n",
       "      <td>0.000800</td>\n",
       "      <td>0.452181</td>\n",
       "      <td>45.218087</td>\n",
       "      <td>54.781913</td>\n",
       "    </tr>\n",
       "    <tr>\n",
       "      <th>overcrowded</th>\n",
       "      <td>1.0</td>\n",
       "      <td>3.0</td>\n",
       "      <td>0.00531</td>\n",
       "      <td>0.000400</td>\n",
       "      <td>0.075363</td>\n",
       "      <td>7.536348</td>\n",
       "      <td>92.463652</td>\n",
       "    </tr>\n",
       "    <tr>\n",
       "      <th>50s</th>\n",
       "      <td>2.0</td>\n",
       "      <td>1.0</td>\n",
       "      <td>0.00177</td>\n",
       "      <td>0.000800</td>\n",
       "      <td>0.452181</td>\n",
       "      <td>45.218087</td>\n",
       "      <td>54.781913</td>\n",
       "    </tr>\n",
       "  </tbody>\n",
       "</table>\n",
       "</div>"
      ],
      "text/plain": [
       "              best  bad  bad_freq  best_freq  best_ratio  \\\n",
       "token                                                      \n",
       "chopstick      2.0  1.0   0.00177   0.000800    0.452181   \n",
       "clipped        2.0  2.0   0.00354   0.000800    0.226090   \n",
       "decisions      5.0  3.0   0.00531   0.002001    0.376817   \n",
       "satori         2.0  1.0   0.00177   0.000800    0.452181   \n",
       "performances   2.0  1.0   0.00177   0.000800    0.452181   \n",
       "overcrowded    1.0  3.0   0.00531   0.000400    0.075363   \n",
       "50s            2.0  1.0   0.00177   0.000800    0.452181   \n",
       "\n",
       "              best_token_percentage  bad_token_percentage  \n",
       "token                                                      \n",
       "chopstick                 45.218087             54.781913  \n",
       "clipped                   22.609044             77.390956  \n",
       "decisions                 37.681739             62.318261  \n",
       "satori                    45.218087             54.781913  \n",
       "performances              45.218087             54.781913  \n",
       "overcrowded                7.536348             92.463652  \n",
       "50s                       45.218087             54.781913  "
      ]
     },
     "execution_count": 196,
     "metadata": {},
     "output_type": "execute_result"
    }
   ],
   "source": [
    "tokens.sample(7, random_state=1) "
   ]
  },
  {
   "cell_type": "code",
   "execution_count": 201,
   "metadata": {},
   "outputs": [
    {
     "data": {
      "text/html": [
       "<div>\n",
       "<style scoped>\n",
       "    .dataframe tbody tr th:only-of-type {\n",
       "        vertical-align: middle;\n",
       "    }\n",
       "\n",
       "    .dataframe tbody tr th {\n",
       "        vertical-align: top;\n",
       "    }\n",
       "\n",
       "    .dataframe thead th {\n",
       "        text-align: right;\n",
       "    }\n",
       "</style>\n",
       "<table border=\"1\" class=\"dataframe\">\n",
       "  <thead>\n",
       "    <tr style=\"text-align: right;\">\n",
       "      <th></th>\n",
       "      <th>best</th>\n",
       "      <th>bad</th>\n",
       "      <th>bad_freq</th>\n",
       "      <th>best_freq</th>\n",
       "      <th>best_ratio</th>\n",
       "      <th>best_token_percentage</th>\n",
       "      <th>bad_token_percentage</th>\n",
       "    </tr>\n",
       "    <tr>\n",
       "      <th>token</th>\n",
       "      <th></th>\n",
       "      <th></th>\n",
       "      <th></th>\n",
       "      <th></th>\n",
       "      <th></th>\n",
       "      <th></th>\n",
       "      <th></th>\n",
       "    </tr>\n",
       "  </thead>\n",
       "  <tbody>\n",
       "    <tr>\n",
       "      <th>fantastic</th>\n",
       "      <td>193.0</td>\n",
       "      <td>2.0</td>\n",
       "      <td>0.003540</td>\n",
       "      <td>0.077231</td>\n",
       "      <td>21.817727</td>\n",
       "      <td>2181.772709</td>\n",
       "      <td>-2081.772709</td>\n",
       "    </tr>\n",
       "    <tr>\n",
       "      <th>perfect</th>\n",
       "      <td>245.0</td>\n",
       "      <td>3.0</td>\n",
       "      <td>0.005310</td>\n",
       "      <td>0.098039</td>\n",
       "      <td>18.464052</td>\n",
       "      <td>1846.405229</td>\n",
       "      <td>-1746.405229</td>\n",
       "    </tr>\n",
       "    <tr>\n",
       "      <th>yum</th>\n",
       "      <td>62.0</td>\n",
       "      <td>1.0</td>\n",
       "      <td>0.001770</td>\n",
       "      <td>0.024810</td>\n",
       "      <td>14.017607</td>\n",
       "      <td>1401.760704</td>\n",
       "      <td>-1301.760704</td>\n",
       "    </tr>\n",
       "    <tr>\n",
       "      <th>favorite</th>\n",
       "      <td>345.0</td>\n",
       "      <td>7.0</td>\n",
       "      <td>0.012389</td>\n",
       "      <td>0.138055</td>\n",
       "      <td>11.143029</td>\n",
       "      <td>1114.302864</td>\n",
       "      <td>-1014.302864</td>\n",
       "    </tr>\n",
       "    <tr>\n",
       "      <th>outstanding</th>\n",
       "      <td>49.0</td>\n",
       "      <td>1.0</td>\n",
       "      <td>0.001770</td>\n",
       "      <td>0.019608</td>\n",
       "      <td>11.078431</td>\n",
       "      <td>1107.843137</td>\n",
       "      <td>-1007.843137</td>\n",
       "    </tr>\n",
       "    <tr>\n",
       "      <th>brunch</th>\n",
       "      <td>42.0</td>\n",
       "      <td>1.0</td>\n",
       "      <td>0.001770</td>\n",
       "      <td>0.016807</td>\n",
       "      <td>9.495798</td>\n",
       "      <td>949.579832</td>\n",
       "      <td>-849.579832</td>\n",
       "    </tr>\n",
       "    <tr>\n",
       "      <th>gem</th>\n",
       "      <td>40.0</td>\n",
       "      <td>1.0</td>\n",
       "      <td>0.001770</td>\n",
       "      <td>0.016006</td>\n",
       "      <td>9.043617</td>\n",
       "      <td>904.361745</td>\n",
       "      <td>-804.361745</td>\n",
       "    </tr>\n",
       "    <tr>\n",
       "      <th>mozzarella</th>\n",
       "      <td>39.0</td>\n",
       "      <td>1.0</td>\n",
       "      <td>0.001770</td>\n",
       "      <td>0.015606</td>\n",
       "      <td>8.817527</td>\n",
       "      <td>881.752701</td>\n",
       "      <td>-781.752701</td>\n",
       "    </tr>\n",
       "    <tr>\n",
       "      <th>pasty</th>\n",
       "      <td>39.0</td>\n",
       "      <td>1.0</td>\n",
       "      <td>0.001770</td>\n",
       "      <td>0.015606</td>\n",
       "      <td>8.817527</td>\n",
       "      <td>881.752701</td>\n",
       "      <td>-781.752701</td>\n",
       "    </tr>\n",
       "    <tr>\n",
       "      <th>amazing</th>\n",
       "      <td>463.0</td>\n",
       "      <td>12.0</td>\n",
       "      <td>0.021239</td>\n",
       "      <td>0.185274</td>\n",
       "      <td>8.723323</td>\n",
       "      <td>872.332266</td>\n",
       "      <td>-772.332266</td>\n",
       "    </tr>\n",
       "  </tbody>\n",
       "</table>\n",
       "</div>"
      ],
      "text/plain": [
       "              best   bad  bad_freq  best_freq  best_ratio  \\\n",
       "token                                                       \n",
       "fantastic    193.0   2.0  0.003540   0.077231   21.817727   \n",
       "perfect      245.0   3.0  0.005310   0.098039   18.464052   \n",
       "yum           62.0   1.0  0.001770   0.024810   14.017607   \n",
       "favorite     345.0   7.0  0.012389   0.138055   11.143029   \n",
       "outstanding   49.0   1.0  0.001770   0.019608   11.078431   \n",
       "brunch        42.0   1.0  0.001770   0.016807    9.495798   \n",
       "gem           40.0   1.0  0.001770   0.016006    9.043617   \n",
       "mozzarella    39.0   1.0  0.001770   0.015606    8.817527   \n",
       "pasty         39.0   1.0  0.001770   0.015606    8.817527   \n",
       "amazing      463.0  12.0  0.021239   0.185274    8.723323   \n",
       "\n",
       "             best_token_percentage  bad_token_percentage  \n",
       "token                                                     \n",
       "fantastic              2181.772709          -2081.772709  \n",
       "perfect                1846.405229          -1746.405229  \n",
       "yum                    1401.760704          -1301.760704  \n",
       "favorite               1114.302864          -1014.302864  \n",
       "outstanding            1107.843137          -1007.843137  \n",
       "brunch                  949.579832           -849.579832  \n",
       "gem                     904.361745           -804.361745  \n",
       "mozzarella              881.752701           -781.752701  \n",
       "pasty                   881.752701           -781.752701  \n",
       "amazing                 872.332266           -772.332266  "
      ]
     },
     "execution_count": 201,
     "metadata": {},
     "output_type": "execute_result"
    }
   ],
   "source": [
    "# Calculate which 10 tokens are the most predictive of 5-star reviews\n",
    "tokens.sort_values('best_token_percentage',ascending=False).head(10)#most occur best word is fantastic  and bad word is staffperson"
   ]
  },
  {
   "cell_type": "code",
   "execution_count": 202,
   "metadata": {},
   "outputs": [
    {
     "data": {
      "text/html": [
       "<div>\n",
       "<style scoped>\n",
       "    .dataframe tbody tr th:only-of-type {\n",
       "        vertical-align: middle;\n",
       "    }\n",
       "\n",
       "    .dataframe tbody tr th {\n",
       "        vertical-align: top;\n",
       "    }\n",
       "\n",
       "    .dataframe thead th {\n",
       "        text-align: right;\n",
       "    }\n",
       "</style>\n",
       "<table border=\"1\" class=\"dataframe\">\n",
       "  <thead>\n",
       "    <tr style=\"text-align: right;\">\n",
       "      <th></th>\n",
       "      <th>best</th>\n",
       "      <th>bad</th>\n",
       "      <th>bad_freq</th>\n",
       "      <th>best_freq</th>\n",
       "      <th>best_ratio</th>\n",
       "      <th>best_token_percentage</th>\n",
       "      <th>bad_token_percentage</th>\n",
       "    </tr>\n",
       "    <tr>\n",
       "      <th>token</th>\n",
       "      <th></th>\n",
       "      <th></th>\n",
       "      <th></th>\n",
       "      <th></th>\n",
       "      <th></th>\n",
       "      <th></th>\n",
       "      <th></th>\n",
       "    </tr>\n",
       "  </thead>\n",
       "  <tbody>\n",
       "    <tr>\n",
       "      <th>staffperson</th>\n",
       "      <td>1.0</td>\n",
       "      <td>17.0</td>\n",
       "      <td>0.030088</td>\n",
       "      <td>0.0004</td>\n",
       "      <td>0.013299</td>\n",
       "      <td>1.329944</td>\n",
       "      <td>98.670056</td>\n",
       "    </tr>\n",
       "    <tr>\n",
       "      <th>refused</th>\n",
       "      <td>1.0</td>\n",
       "      <td>14.0</td>\n",
       "      <td>0.024779</td>\n",
       "      <td>0.0004</td>\n",
       "      <td>0.016149</td>\n",
       "      <td>1.614932</td>\n",
       "      <td>98.385068</td>\n",
       "    </tr>\n",
       "    <tr>\n",
       "      <th>disgusting</th>\n",
       "      <td>2.0</td>\n",
       "      <td>24.0</td>\n",
       "      <td>0.042478</td>\n",
       "      <td>0.0008</td>\n",
       "      <td>0.018841</td>\n",
       "      <td>1.884087</td>\n",
       "      <td>98.115913</td>\n",
       "    </tr>\n",
       "    <tr>\n",
       "      <th>filthy</th>\n",
       "      <td>1.0</td>\n",
       "      <td>11.0</td>\n",
       "      <td>0.019469</td>\n",
       "      <td>0.0004</td>\n",
       "      <td>0.020554</td>\n",
       "      <td>2.055368</td>\n",
       "      <td>97.944632</td>\n",
       "    </tr>\n",
       "    <tr>\n",
       "      <th>unacceptable</th>\n",
       "      <td>1.0</td>\n",
       "      <td>9.0</td>\n",
       "      <td>0.015929</td>\n",
       "      <td>0.0004</td>\n",
       "      <td>0.025121</td>\n",
       "      <td>2.512116</td>\n",
       "      <td>97.487884</td>\n",
       "    </tr>\n",
       "    <tr>\n",
       "      <th>acknowledge</th>\n",
       "      <td>1.0</td>\n",
       "      <td>9.0</td>\n",
       "      <td>0.015929</td>\n",
       "      <td>0.0004</td>\n",
       "      <td>0.025121</td>\n",
       "      <td>2.512116</td>\n",
       "      <td>97.487884</td>\n",
       "    </tr>\n",
       "    <tr>\n",
       "      <th>unprofessional</th>\n",
       "      <td>1.0</td>\n",
       "      <td>9.0</td>\n",
       "      <td>0.015929</td>\n",
       "      <td>0.0004</td>\n",
       "      <td>0.025121</td>\n",
       "      <td>2.512116</td>\n",
       "      <td>97.487884</td>\n",
       "    </tr>\n",
       "    <tr>\n",
       "      <th>ugh</th>\n",
       "      <td>2.0</td>\n",
       "      <td>17.0</td>\n",
       "      <td>0.030088</td>\n",
       "      <td>0.0008</td>\n",
       "      <td>0.026599</td>\n",
       "      <td>2.659887</td>\n",
       "      <td>97.340113</td>\n",
       "    </tr>\n",
       "    <tr>\n",
       "      <th>boca</th>\n",
       "      <td>1.0</td>\n",
       "      <td>8.0</td>\n",
       "      <td>0.014159</td>\n",
       "      <td>0.0004</td>\n",
       "      <td>0.028261</td>\n",
       "      <td>2.826130</td>\n",
       "      <td>97.173870</td>\n",
       "    </tr>\n",
       "    <tr>\n",
       "      <th>voucher</th>\n",
       "      <td>1.0</td>\n",
       "      <td>8.0</td>\n",
       "      <td>0.014159</td>\n",
       "      <td>0.0004</td>\n",
       "      <td>0.028261</td>\n",
       "      <td>2.826130</td>\n",
       "      <td>97.173870</td>\n",
       "    </tr>\n",
       "  </tbody>\n",
       "</table>\n",
       "</div>"
      ],
      "text/plain": [
       "                best   bad  bad_freq  best_freq  best_ratio  \\\n",
       "token                                                         \n",
       "staffperson      1.0  17.0  0.030088     0.0004    0.013299   \n",
       "refused          1.0  14.0  0.024779     0.0004    0.016149   \n",
       "disgusting       2.0  24.0  0.042478     0.0008    0.018841   \n",
       "filthy           1.0  11.0  0.019469     0.0004    0.020554   \n",
       "unacceptable     1.0   9.0  0.015929     0.0004    0.025121   \n",
       "acknowledge      1.0   9.0  0.015929     0.0004    0.025121   \n",
       "unprofessional   1.0   9.0  0.015929     0.0004    0.025121   \n",
       "ugh              2.0  17.0  0.030088     0.0008    0.026599   \n",
       "boca             1.0   8.0  0.014159     0.0004    0.028261   \n",
       "voucher          1.0   8.0  0.014159     0.0004    0.028261   \n",
       "\n",
       "                best_token_percentage  bad_token_percentage  \n",
       "token                                                        \n",
       "staffperson                  1.329944             98.670056  \n",
       "refused                      1.614932             98.385068  \n",
       "disgusting                   1.884087             98.115913  \n",
       "filthy                       2.055368             97.944632  \n",
       "unacceptable                 2.512116             97.487884  \n",
       "acknowledge                  2.512116             97.487884  \n",
       "unprofessional               2.512116             97.487884  \n",
       "ugh                          2.659887             97.340113  \n",
       "boca                         2.826130             97.173870  \n",
       "voucher                      2.826130             97.173870  "
      ]
     },
     "execution_count": 202,
     "metadata": {},
     "output_type": "execute_result"
    }
   ],
   "source": [
    "# 10 tokens are the most predictive of 1-star reviews.\n",
    "tokens.sort_values('bad_token_percentage',ascending=False).head(10)"
   ]
  },
  {
   "cell_type": "code",
   "execution_count": null,
   "metadata": {},
   "outputs": [],
   "source": []
  }
 ],
 "metadata": {
  "kernelspec": {
   "display_name": "Python 3",
   "language": "python",
   "name": "python3"
  },
  "language_info": {
   "codemirror_mode": {
    "name": "ipython",
    "version": 3
   },
   "file_extension": ".py",
   "mimetype": "text/x-python",
   "name": "python",
   "nbconvert_exporter": "python",
   "pygments_lexer": "ipython3",
   "version": "3.7.6"
  }
 },
 "nbformat": 4,
 "nbformat_minor": 4
}
